{
 "cells": [
  {
   "cell_type": "code",
   "execution_count": 1,
   "id": "8b2a2ce1-da98-4d4d-972b-0142b0eaf2f2",
   "metadata": {},
   "outputs": [
    {
     "name": "stdout",
     "output_type": "stream",
     "text": [
      "\n",
      "Running experiment with no_augmentation\n",
      "\n",
      "Run 1/5\n"
     ]
    },
    {
     "name": "stderr",
     "output_type": "stream",
     "text": [
      "Epoch 1/50: 100%|██████████████████████████████████████████████████████████| 26/26 [00:03<00:00,  8.23it/s, Loss=0.669]\n"
     ]
    },
    {
     "name": "stdout",
     "output_type": "stream",
     "text": [
      "Epoch [1/50], Loss: 0.6692, Train Accuracy: 53.27%, Validation Accuracy: 53.17%\n"
     ]
    },
    {
     "name": "stderr",
     "output_type": "stream",
     "text": [
      "Epoch 2/50: 100%|██████████████████████████████████████████████████████████| 26/26 [00:03<00:00,  8.14it/s, Loss=0.529]\n"
     ]
    },
    {
     "name": "stdout",
     "output_type": "stream",
     "text": [
      "Epoch [2/50], Loss: 0.5289, Train Accuracy: 78.62%, Validation Accuracy: 76.10%\n"
     ]
    },
    {
     "name": "stderr",
     "output_type": "stream",
     "text": [
      "Epoch 3/50: 100%|██████████████████████████████████████████████████████████| 26/26 [00:03<00:00,  7.16it/s, Loss=0.496]\n"
     ]
    },
    {
     "name": "stdout",
     "output_type": "stream",
     "text": [
      "Epoch [3/50], Loss: 0.4957, Train Accuracy: 80.39%, Validation Accuracy: 77.80%\n"
     ]
    },
    {
     "name": "stderr",
     "output_type": "stream",
     "text": [
      "Epoch 4/50: 100%|██████████████████████████████████████████████████████████| 26/26 [00:03<00:00,  6.89it/s, Loss=0.452]\n"
     ]
    },
    {
     "name": "stdout",
     "output_type": "stream",
     "text": [
      "Epoch [4/50], Loss: 0.4515, Train Accuracy: 82.83%, Validation Accuracy: 76.10%\n"
     ]
    },
    {
     "name": "stderr",
     "output_type": "stream",
     "text": [
      "Epoch 5/50: 100%|██████████████████████████████████████████████████████████| 26/26 [00:03<00:00,  7.03it/s, Loss=0.417]\n"
     ]
    },
    {
     "name": "stdout",
     "output_type": "stream",
     "text": [
      "Epoch [5/50], Loss: 0.4175, Train Accuracy: 85.40%, Validation Accuracy: 81.22%\n"
     ]
    },
    {
     "name": "stderr",
     "output_type": "stream",
     "text": [
      "Epoch 6/50: 100%|████████████████████████████████████████████████████████████| 26/26 [00:03<00:00,  6.97it/s, Loss=0.4]\n"
     ]
    },
    {
     "name": "stdout",
     "output_type": "stream",
     "text": [
      "Epoch [6/50], Loss: 0.3997, Train Accuracy: 84.97%, Validation Accuracy: 80.49%\n"
     ]
    },
    {
     "name": "stderr",
     "output_type": "stream",
     "text": [
      "Epoch 7/50: 100%|██████████████████████████████████████████████████████████| 26/26 [00:03<00:00,  6.89it/s, Loss=0.376]\n"
     ]
    },
    {
     "name": "stdout",
     "output_type": "stream",
     "text": [
      "Epoch [7/50], Loss: 0.3756, Train Accuracy: 87.48%, Validation Accuracy: 81.22%\n"
     ]
    },
    {
     "name": "stderr",
     "output_type": "stream",
     "text": [
      "Epoch 8/50: 100%|███████████████████████████████████████████████████████████| 26/26 [00:03<00:00,  6.88it/s, Loss=0.36]\n"
     ]
    },
    {
     "name": "stdout",
     "output_type": "stream",
     "text": [
      "Epoch [8/50], Loss: 0.3605, Train Accuracy: 89.00%, Validation Accuracy: 80.00%\n"
     ]
    },
    {
     "name": "stderr",
     "output_type": "stream",
     "text": [
      "Epoch 9/50: 100%|██████████████████████████████████████████████████████████| 26/26 [00:03<00:00,  6.91it/s, Loss=0.343]\n"
     ]
    },
    {
     "name": "stdout",
     "output_type": "stream",
     "text": [
      "Epoch [9/50], Loss: 0.3425, Train Accuracy: 90.47%, Validation Accuracy: 81.71%\n"
     ]
    },
    {
     "name": "stderr",
     "output_type": "stream",
     "text": [
      "Epoch 10/50: 100%|█████████████████████████████████████████████████████████| 26/26 [00:03<00:00,  7.00it/s, Loss=0.318]\n"
     ]
    },
    {
     "name": "stdout",
     "output_type": "stream",
     "text": [
      "Epoch [10/50], Loss: 0.3177, Train Accuracy: 89.25%, Validation Accuracy: 81.46%\n"
     ]
    },
    {
     "name": "stderr",
     "output_type": "stream",
     "text": [
      "Epoch 11/50: 100%|██████████████████████████████████████████████████████████| 26/26 [00:03<00:00,  6.95it/s, Loss=0.29]\n"
     ]
    },
    {
     "name": "stdout",
     "output_type": "stream",
     "text": [
      "Epoch [11/50], Loss: 0.2898, Train Accuracy: 89.13%, Validation Accuracy: 81.95%\n",
      "Early stopping\n",
      "\n",
      "Run 2/5\n"
     ]
    },
    {
     "name": "stderr",
     "output_type": "stream",
     "text": [
      "Epoch 1/50: 100%|██████████████████████████████████████████████████████████| 26/26 [00:03<00:00,  7.06it/s, Loss=0.691]\n"
     ]
    },
    {
     "name": "stdout",
     "output_type": "stream",
     "text": [
      "Epoch [1/50], Loss: 0.6909, Train Accuracy: 67.99%, Validation Accuracy: 65.61%\n"
     ]
    },
    {
     "name": "stderr",
     "output_type": "stream",
     "text": [
      "Epoch 2/50: 100%|██████████████████████████████████████████████████████████| 26/26 [00:03<00:00,  6.91it/s, Loss=0.536]\n"
     ]
    },
    {
     "name": "stdout",
     "output_type": "stream",
     "text": [
      "Epoch [2/50], Loss: 0.5360, Train Accuracy: 74.22%, Validation Accuracy: 71.22%\n"
     ]
    },
    {
     "name": "stderr",
     "output_type": "stream",
     "text": [
      "Epoch 3/50: 100%|██████████████████████████████████████████████████████████| 26/26 [00:03<00:00,  7.01it/s, Loss=0.483]\n"
     ]
    },
    {
     "name": "stdout",
     "output_type": "stream",
     "text": [
      "Epoch [3/50], Loss: 0.4832, Train Accuracy: 79.78%, Validation Accuracy: 76.59%\n"
     ]
    },
    {
     "name": "stderr",
     "output_type": "stream",
     "text": [
      "Epoch 4/50: 100%|██████████████████████████████████████████████████████████| 26/26 [00:03<00:00,  7.11it/s, Loss=0.457]\n"
     ]
    },
    {
     "name": "stdout",
     "output_type": "stream",
     "text": [
      "Epoch [4/50], Loss: 0.4568, Train Accuracy: 82.47%, Validation Accuracy: 82.20%\n"
     ]
    },
    {
     "name": "stderr",
     "output_type": "stream",
     "text": [
      "Epoch 5/50: 100%|██████████████████████████████████████████████████████████| 26/26 [00:03<00:00,  7.06it/s, Loss=0.435]\n"
     ]
    },
    {
     "name": "stdout",
     "output_type": "stream",
     "text": [
      "Epoch [5/50], Loss: 0.4345, Train Accuracy: 81.86%, Validation Accuracy: 79.27%\n"
     ]
    },
    {
     "name": "stderr",
     "output_type": "stream",
     "text": [
      "Epoch 6/50: 100%|██████████████████████████████████████████████████████████| 26/26 [00:03<00:00,  6.95it/s, Loss=0.413]\n"
     ]
    },
    {
     "name": "stdout",
     "output_type": "stream",
     "text": [
      "Epoch [6/50], Loss: 0.4135, Train Accuracy: 86.19%, Validation Accuracy: 82.68%\n"
     ]
    },
    {
     "name": "stderr",
     "output_type": "stream",
     "text": [
      "Epoch 7/50: 100%|██████████████████████████████████████████████████████████| 26/26 [00:03<00:00,  7.07it/s, Loss=0.379]\n"
     ]
    },
    {
     "name": "stdout",
     "output_type": "stream",
     "text": [
      "Epoch [7/50], Loss: 0.3793, Train Accuracy: 86.32%, Validation Accuracy: 83.90%\n"
     ]
    },
    {
     "name": "stderr",
     "output_type": "stream",
     "text": [
      "Epoch 8/50: 100%|██████████████████████████████████████████████████████████| 26/26 [00:03<00:00,  6.83it/s, Loss=0.363]\n"
     ]
    },
    {
     "name": "stdout",
     "output_type": "stream",
     "text": [
      "Epoch [8/50], Loss: 0.3631, Train Accuracy: 84.36%, Validation Accuracy: 80.49%\n"
     ]
    },
    {
     "name": "stderr",
     "output_type": "stream",
     "text": [
      "Epoch 9/50: 100%|██████████████████████████████████████████████████████████| 26/26 [00:03<00:00,  6.91it/s, Loss=0.343]\n"
     ]
    },
    {
     "name": "stdout",
     "output_type": "stream",
     "text": [
      "Epoch [9/50], Loss: 0.3426, Train Accuracy: 87.72%, Validation Accuracy: 82.68%\n"
     ]
    },
    {
     "name": "stderr",
     "output_type": "stream",
     "text": [
      "Epoch 10/50: 100%|█████████████████████████████████████████████████████████| 26/26 [00:03<00:00,  7.00it/s, Loss=0.333]\n"
     ]
    },
    {
     "name": "stdout",
     "output_type": "stream",
     "text": [
      "Epoch [10/50], Loss: 0.3332, Train Accuracy: 89.74%, Validation Accuracy: 84.39%\n"
     ]
    },
    {
     "name": "stderr",
     "output_type": "stream",
     "text": [
      "Epoch 11/50: 100%|█████████████████████████████████████████████████████████| 26/26 [00:03<00:00,  6.93it/s, Loss=0.307]\n"
     ]
    },
    {
     "name": "stdout",
     "output_type": "stream",
     "text": [
      "Epoch [11/50], Loss: 0.3069, Train Accuracy: 90.41%, Validation Accuracy: 86.10%\n",
      "Early stopping\n",
      "\n",
      "Run 3/5\n"
     ]
    },
    {
     "name": "stderr",
     "output_type": "stream",
     "text": [
      "Epoch 1/50: 100%|██████████████████████████████████████████████████████████| 26/26 [00:03<00:00,  6.98it/s, Loss=0.625]\n"
     ]
    },
    {
     "name": "stdout",
     "output_type": "stream",
     "text": [
      "Epoch [1/50], Loss: 0.6251, Train Accuracy: 61.58%, Validation Accuracy: 64.15%\n"
     ]
    },
    {
     "name": "stderr",
     "output_type": "stream",
     "text": [
      "Epoch 2/50: 100%|██████████████████████████████████████████████████████████| 26/26 [00:03<00:00,  6.99it/s, Loss=0.512]\n"
     ]
    },
    {
     "name": "stdout",
     "output_type": "stream",
     "text": [
      "Epoch [2/50], Loss: 0.5122, Train Accuracy: 76.36%, Validation Accuracy: 78.05%\n"
     ]
    },
    {
     "name": "stderr",
     "output_type": "stream",
     "text": [
      "Epoch 3/50: 100%|██████████████████████████████████████████████████████████| 26/26 [00:03<00:00,  7.03it/s, Loss=0.472]\n"
     ]
    },
    {
     "name": "stdout",
     "output_type": "stream",
     "text": [
      "Epoch [3/50], Loss: 0.4723, Train Accuracy: 81.19%, Validation Accuracy: 81.46%\n"
     ]
    },
    {
     "name": "stderr",
     "output_type": "stream",
     "text": [
      "Epoch 4/50: 100%|██████████████████████████████████████████████████████████| 26/26 [00:03<00:00,  6.90it/s, Loss=0.439]\n"
     ]
    },
    {
     "name": "stdout",
     "output_type": "stream",
     "text": [
      "Epoch [4/50], Loss: 0.4393, Train Accuracy: 84.67%, Validation Accuracy: 83.17%\n"
     ]
    },
    {
     "name": "stderr",
     "output_type": "stream",
     "text": [
      "Epoch 5/50: 100%|███████████████████████████████████████████████████████████| 26/26 [00:03<00:00,  7.07it/s, Loss=0.42]\n"
     ]
    },
    {
     "name": "stdout",
     "output_type": "stream",
     "text": [
      "Epoch [5/50], Loss: 0.4201, Train Accuracy: 85.40%, Validation Accuracy: 82.20%\n"
     ]
    },
    {
     "name": "stderr",
     "output_type": "stream",
     "text": [
      "Epoch 6/50: 100%|██████████████████████████████████████████████████████████| 26/26 [00:03<00:00,  7.11it/s, Loss=0.385]\n"
     ]
    },
    {
     "name": "stdout",
     "output_type": "stream",
     "text": [
      "Epoch [6/50], Loss: 0.3854, Train Accuracy: 84.91%, Validation Accuracy: 82.20%\n"
     ]
    },
    {
     "name": "stderr",
     "output_type": "stream",
     "text": [
      "Epoch 7/50: 100%|██████████████████████████████████████████████████████████| 26/26 [00:03<00:00,  7.02it/s, Loss=0.345]\n"
     ]
    },
    {
     "name": "stdout",
     "output_type": "stream",
     "text": [
      "Epoch [7/50], Loss: 0.3447, Train Accuracy: 87.84%, Validation Accuracy: 82.44%\n"
     ]
    },
    {
     "name": "stderr",
     "output_type": "stream",
     "text": [
      "Epoch 8/50: 100%|██████████████████████████████████████████████████████████| 26/26 [00:03<00:00,  6.96it/s, Loss=0.328]\n"
     ]
    },
    {
     "name": "stdout",
     "output_type": "stream",
     "text": [
      "Epoch [8/50], Loss: 0.3277, Train Accuracy: 90.96%, Validation Accuracy: 84.39%\n"
     ]
    },
    {
     "name": "stderr",
     "output_type": "stream",
     "text": [
      "Epoch 9/50: 100%|██████████████████████████████████████████████████████████| 26/26 [00:03<00:00,  7.00it/s, Loss=0.303]\n"
     ]
    },
    {
     "name": "stdout",
     "output_type": "stream",
     "text": [
      "Epoch [9/50], Loss: 0.3030, Train Accuracy: 87.90%, Validation Accuracy: 83.90%\n"
     ]
    },
    {
     "name": "stderr",
     "output_type": "stream",
     "text": [
      "Epoch 10/50: 100%|█████████████████████████████████████████████████████████| 26/26 [00:03<00:00,  6.94it/s, Loss=0.284]\n"
     ]
    },
    {
     "name": "stdout",
     "output_type": "stream",
     "text": [
      "Epoch [10/50], Loss: 0.2836, Train Accuracy: 91.51%, Validation Accuracy: 85.12%\n"
     ]
    },
    {
     "name": "stderr",
     "output_type": "stream",
     "text": [
      "Epoch 11/50: 100%|█████████████████████████████████████████████████████████| 26/26 [00:03<00:00,  7.10it/s, Loss=0.256]\n"
     ]
    },
    {
     "name": "stdout",
     "output_type": "stream",
     "text": [
      "Epoch [11/50], Loss: 0.2559, Train Accuracy: 93.59%, Validation Accuracy: 84.88%\n",
      "Early stopping\n",
      "\n",
      "Run 4/5\n"
     ]
    },
    {
     "name": "stderr",
     "output_type": "stream",
     "text": [
      "Epoch 1/50: 100%|███████████████████████████████████████████████████████████| 26/26 [00:03<00:00,  6.97it/s, Loss=0.61]\n"
     ]
    },
    {
     "name": "stdout",
     "output_type": "stream",
     "text": [
      "Epoch [1/50], Loss: 0.6098, Train Accuracy: 55.83%, Validation Accuracy: 52.93%\n"
     ]
    },
    {
     "name": "stderr",
     "output_type": "stream",
     "text": [
      "Epoch 2/50: 100%|██████████████████████████████████████████████████████████| 26/26 [00:03<00:00,  6.86it/s, Loss=0.509]\n"
     ]
    },
    {
     "name": "stdout",
     "output_type": "stream",
     "text": [
      "Epoch [2/50], Loss: 0.5089, Train Accuracy: 77.46%, Validation Accuracy: 70.00%\n"
     ]
    },
    {
     "name": "stderr",
     "output_type": "stream",
     "text": [
      "Epoch 3/50: 100%|██████████████████████████████████████████████████████████| 26/26 [00:03<00:00,  6.65it/s, Loss=0.464]\n"
     ]
    },
    {
     "name": "stdout",
     "output_type": "stream",
     "text": [
      "Epoch [3/50], Loss: 0.4641, Train Accuracy: 80.57%, Validation Accuracy: 74.39%\n"
     ]
    },
    {
     "name": "stderr",
     "output_type": "stream",
     "text": [
      "Epoch 4/50: 100%|██████████████████████████████████████████████████████████| 26/26 [00:03<00:00,  6.74it/s, Loss=0.433]\n"
     ]
    },
    {
     "name": "stdout",
     "output_type": "stream",
     "text": [
      "Epoch [4/50], Loss: 0.4329, Train Accuracy: 82.59%, Validation Accuracy: 79.51%\n"
     ]
    },
    {
     "name": "stderr",
     "output_type": "stream",
     "text": [
      "Epoch 5/50: 100%|██████████████████████████████████████████████████████████| 26/26 [00:03<00:00,  7.04it/s, Loss=0.394]\n"
     ]
    },
    {
     "name": "stdout",
     "output_type": "stream",
     "text": [
      "Epoch [5/50], Loss: 0.3941, Train Accuracy: 75.81%, Validation Accuracy: 72.44%\n"
     ]
    },
    {
     "name": "stderr",
     "output_type": "stream",
     "text": [
      "Epoch 6/50: 100%|██████████████████████████████████████████████████████████| 26/26 [00:03<00:00,  7.01it/s, Loss=0.362]\n"
     ]
    },
    {
     "name": "stdout",
     "output_type": "stream",
     "text": [
      "Epoch [6/50], Loss: 0.3619, Train Accuracy: 88.15%, Validation Accuracy: 81.71%\n"
     ]
    },
    {
     "name": "stderr",
     "output_type": "stream",
     "text": [
      "Epoch 7/50: 100%|██████████████████████████████████████████████████████████| 26/26 [00:03<00:00,  7.00it/s, Loss=0.347]\n"
     ]
    },
    {
     "name": "stdout",
     "output_type": "stream",
     "text": [
      "Epoch [7/50], Loss: 0.3466, Train Accuracy: 88.94%, Validation Accuracy: 81.22%\n"
     ]
    },
    {
     "name": "stderr",
     "output_type": "stream",
     "text": [
      "Epoch 8/50: 100%|██████████████████████████████████████████████████████████| 26/26 [00:03<00:00,  6.83it/s, Loss=0.324]\n"
     ]
    },
    {
     "name": "stdout",
     "output_type": "stream",
     "text": [
      "Epoch [8/50], Loss: 0.3237, Train Accuracy: 88.39%, Validation Accuracy: 78.54%\n"
     ]
    },
    {
     "name": "stderr",
     "output_type": "stream",
     "text": [
      "Epoch 9/50: 100%|██████████████████████████████████████████████████████████| 26/26 [00:03<00:00,  7.01it/s, Loss=0.299]\n"
     ]
    },
    {
     "name": "stdout",
     "output_type": "stream",
     "text": [
      "Epoch [9/50], Loss: 0.2993, Train Accuracy: 90.29%, Validation Accuracy: 79.51%\n"
     ]
    },
    {
     "name": "stderr",
     "output_type": "stream",
     "text": [
      "Epoch 10/50: 100%|█████████████████████████████████████████████████████████| 26/26 [00:03<00:00,  6.91it/s, Loss=0.282]\n"
     ]
    },
    {
     "name": "stdout",
     "output_type": "stream",
     "text": [
      "Epoch [10/50], Loss: 0.2815, Train Accuracy: 93.16%, Validation Accuracy: 82.20%\n"
     ]
    },
    {
     "name": "stderr",
     "output_type": "stream",
     "text": [
      "Epoch 11/50: 100%|██████████████████████████████████████████████████████████| 26/26 [00:03<00:00,  6.73it/s, Loss=0.27]\n"
     ]
    },
    {
     "name": "stdout",
     "output_type": "stream",
     "text": [
      "Epoch [11/50], Loss: 0.2699, Train Accuracy: 93.46%, Validation Accuracy: 84.15%\n",
      "Early stopping\n",
      "\n",
      "Run 5/5\n"
     ]
    },
    {
     "name": "stderr",
     "output_type": "stream",
     "text": [
      "Epoch 1/50: 100%|██████████████████████████████████████████████████████████| 26/26 [00:03<00:00,  7.02it/s, Loss=0.599]\n"
     ]
    },
    {
     "name": "stdout",
     "output_type": "stream",
     "text": [
      "Epoch [1/50], Loss: 0.5992, Train Accuracy: 64.51%, Validation Accuracy: 66.10%\n"
     ]
    },
    {
     "name": "stderr",
     "output_type": "stream",
     "text": [
      "Epoch 2/50: 100%|██████████████████████████████████████████████████████████| 26/26 [00:03<00:00,  6.91it/s, Loss=0.495]\n"
     ]
    },
    {
     "name": "stdout",
     "output_type": "stream",
     "text": [
      "Epoch [2/50], Loss: 0.4947, Train Accuracy: 77.03%, Validation Accuracy: 74.15%\n"
     ]
    },
    {
     "name": "stderr",
     "output_type": "stream",
     "text": [
      "Epoch 3/50: 100%|███████████████████████████████████████████████████████████| 26/26 [00:03<00:00,  6.97it/s, Loss=0.44]\n"
     ]
    },
    {
     "name": "stdout",
     "output_type": "stream",
     "text": [
      "Epoch [3/50], Loss: 0.4400, Train Accuracy: 82.77%, Validation Accuracy: 76.34%\n"
     ]
    },
    {
     "name": "stderr",
     "output_type": "stream",
     "text": [
      "Epoch 4/50: 100%|██████████████████████████████████████████████████████████| 26/26 [00:03<00:00,  6.92it/s, Loss=0.397]\n"
     ]
    },
    {
     "name": "stdout",
     "output_type": "stream",
     "text": [
      "Epoch [4/50], Loss: 0.3966, Train Accuracy: 80.45%, Validation Accuracy: 74.15%\n"
     ]
    },
    {
     "name": "stderr",
     "output_type": "stream",
     "text": [
      "Epoch 5/50: 100%|██████████████████████████████████████████████████████████| 26/26 [00:03<00:00,  7.05it/s, Loss=0.377]\n"
     ]
    },
    {
     "name": "stdout",
     "output_type": "stream",
     "text": [
      "Epoch [5/50], Loss: 0.3769, Train Accuracy: 87.54%, Validation Accuracy: 78.29%\n"
     ]
    },
    {
     "name": "stderr",
     "output_type": "stream",
     "text": [
      "Epoch 6/50: 100%|██████████████████████████████████████████████████████████| 26/26 [00:03<00:00,  6.87it/s, Loss=0.337]\n"
     ]
    },
    {
     "name": "stdout",
     "output_type": "stream",
     "text": [
      "Epoch [6/50], Loss: 0.3369, Train Accuracy: 89.07%, Validation Accuracy: 78.54%\n"
     ]
    },
    {
     "name": "stderr",
     "output_type": "stream",
     "text": [
      "Epoch 7/50: 100%|██████████████████████████████████████████████████████████| 26/26 [00:03<00:00,  6.99it/s, Loss=0.318]\n"
     ]
    },
    {
     "name": "stdout",
     "output_type": "stream",
     "text": [
      "Epoch [7/50], Loss: 0.3181, Train Accuracy: 76.30%, Validation Accuracy: 74.63%\n"
     ]
    },
    {
     "name": "stderr",
     "output_type": "stream",
     "text": [
      "Epoch 8/50: 100%|██████████████████████████████████████████████████████████| 26/26 [00:03<00:00,  6.92it/s, Loss=0.309]\n"
     ]
    },
    {
     "name": "stdout",
     "output_type": "stream",
     "text": [
      "Epoch [8/50], Loss: 0.3085, Train Accuracy: 91.88%, Validation Accuracy: 82.20%\n"
     ]
    },
    {
     "name": "stderr",
     "output_type": "stream",
     "text": [
      "Epoch 9/50: 100%|██████████████████████████████████████████████████████████| 26/26 [00:03<00:00,  6.86it/s, Loss=0.265]\n"
     ]
    },
    {
     "name": "stdout",
     "output_type": "stream",
     "text": [
      "Epoch [9/50], Loss: 0.2646, Train Accuracy: 94.07%, Validation Accuracy: 82.44%\n"
     ]
    },
    {
     "name": "stderr",
     "output_type": "stream",
     "text": [
      "Epoch 10/50: 100%|█████████████████████████████████████████████████████████| 26/26 [00:03<00:00,  6.96it/s, Loss=0.242]\n"
     ]
    },
    {
     "name": "stdout",
     "output_type": "stream",
     "text": [
      "Epoch [10/50], Loss: 0.2420, Train Accuracy: 93.28%, Validation Accuracy: 79.27%\n"
     ]
    },
    {
     "name": "stderr",
     "output_type": "stream",
     "text": [
      "Epoch 11/50: 100%|█████████████████████████████████████████████████████████| 26/26 [00:03<00:00,  6.92it/s, Loss=0.216]\n"
     ]
    },
    {
     "name": "stdout",
     "output_type": "stream",
     "text": [
      "Epoch [11/50], Loss: 0.2158, Train Accuracy: 95.36%, Validation Accuracy: 82.93%\n",
      "Early stopping\n",
      "\n",
      "Running experiment with color_jitter\n",
      "\n",
      "Run 1/5\n"
     ]
    },
    {
     "name": "stderr",
     "output_type": "stream",
     "text": [
      "Epoch 1/50: 100%|██████████████████████████████████████████████████████████| 26/26 [00:06<00:00,  3.91it/s, Loss=0.643]\n"
     ]
    },
    {
     "name": "stdout",
     "output_type": "stream",
     "text": [
      "Epoch [1/50], Loss: 0.6433, Train Accuracy: 52.05%, Validation Accuracy: 54.63%\n"
     ]
    },
    {
     "name": "stderr",
     "output_type": "stream",
     "text": [
      "Epoch 2/50: 100%|██████████████████████████████████████████████████████████| 26/26 [00:06<00:00,  4.29it/s, Loss=0.542]\n"
     ]
    },
    {
     "name": "stdout",
     "output_type": "stream",
     "text": [
      "Epoch [2/50], Loss: 0.5418, Train Accuracy: 75.69%, Validation Accuracy: 76.34%\n"
     ]
    },
    {
     "name": "stderr",
     "output_type": "stream",
     "text": [
      "Epoch 3/50: 100%|██████████████████████████████████████████████████████████| 26/26 [00:06<00:00,  4.22it/s, Loss=0.513]\n"
     ]
    },
    {
     "name": "stdout",
     "output_type": "stream",
     "text": [
      "Epoch [3/50], Loss: 0.5129, Train Accuracy: 76.54%, Validation Accuracy: 75.85%\n"
     ]
    },
    {
     "name": "stderr",
     "output_type": "stream",
     "text": [
      "Epoch 4/50: 100%|██████████████████████████████████████████████████████████| 26/26 [00:06<00:00,  4.17it/s, Loss=0.483]\n"
     ]
    },
    {
     "name": "stdout",
     "output_type": "stream",
     "text": [
      "Epoch [4/50], Loss: 0.4829, Train Accuracy: 79.84%, Validation Accuracy: 78.29%\n"
     ]
    },
    {
     "name": "stderr",
     "output_type": "stream",
     "text": [
      "Epoch 5/50: 100%|██████████████████████████████████████████████████████████| 26/26 [00:06<00:00,  4.32it/s, Loss=0.463]\n"
     ]
    },
    {
     "name": "stdout",
     "output_type": "stream",
     "text": [
      "Epoch [5/50], Loss: 0.4625, Train Accuracy: 82.16%, Validation Accuracy: 79.76%\n"
     ]
    },
    {
     "name": "stderr",
     "output_type": "stream",
     "text": [
      "Epoch 6/50: 100%|██████████████████████████████████████████████████████████| 26/26 [00:06<00:00,  4.21it/s, Loss=0.453]\n"
     ]
    },
    {
     "name": "stdout",
     "output_type": "stream",
     "text": [
      "Epoch [6/50], Loss: 0.4529, Train Accuracy: 80.64%, Validation Accuracy: 79.76%\n"
     ]
    },
    {
     "name": "stderr",
     "output_type": "stream",
     "text": [
      "Epoch 7/50: 100%|██████████████████████████████████████████████████████████| 26/26 [00:06<00:00,  4.27it/s, Loss=0.417]\n"
     ]
    },
    {
     "name": "stdout",
     "output_type": "stream",
     "text": [
      "Epoch [7/50], Loss: 0.4174, Train Accuracy: 79.35%, Validation Accuracy: 74.15%\n"
     ]
    },
    {
     "name": "stderr",
     "output_type": "stream",
     "text": [
      "Epoch 8/50: 100%|██████████████████████████████████████████████████████████| 26/26 [00:06<00:00,  4.29it/s, Loss=0.395]\n"
     ]
    },
    {
     "name": "stdout",
     "output_type": "stream",
     "text": [
      "Epoch [8/50], Loss: 0.3954, Train Accuracy: 85.34%, Validation Accuracy: 83.41%\n"
     ]
    },
    {
     "name": "stderr",
     "output_type": "stream",
     "text": [
      "Epoch 9/50: 100%|██████████████████████████████████████████████████████████| 26/26 [00:06<00:00,  4.29it/s, Loss=0.366]\n"
     ]
    },
    {
     "name": "stdout",
     "output_type": "stream",
     "text": [
      "Epoch [9/50], Loss: 0.3659, Train Accuracy: 86.13%, Validation Accuracy: 80.24%\n"
     ]
    },
    {
     "name": "stderr",
     "output_type": "stream",
     "text": [
      "Epoch 10/50: 100%|█████████████████████████████████████████████████████████| 26/26 [00:06<00:00,  4.23it/s, Loss=0.361]\n"
     ]
    },
    {
     "name": "stdout",
     "output_type": "stream",
     "text": [
      "Epoch [10/50], Loss: 0.3611, Train Accuracy: 84.18%, Validation Accuracy: 77.56%\n"
     ]
    },
    {
     "name": "stderr",
     "output_type": "stream",
     "text": [
      "Epoch 11/50: 100%|█████████████████████████████████████████████████████████| 26/26 [00:06<00:00,  4.22it/s, Loss=0.326]\n"
     ]
    },
    {
     "name": "stdout",
     "output_type": "stream",
     "text": [
      "Epoch [11/50], Loss: 0.3258, Train Accuracy: 87.29%, Validation Accuracy: 80.73%\n",
      "Early stopping\n",
      "\n",
      "Run 2/5\n"
     ]
    },
    {
     "name": "stderr",
     "output_type": "stream",
     "text": [
      "Epoch 1/50: 100%|██████████████████████████████████████████████████████████| 26/26 [00:06<00:00,  4.06it/s, Loss=0.618]\n"
     ]
    },
    {
     "name": "stdout",
     "output_type": "stream",
     "text": [
      "Epoch [1/50], Loss: 0.6178, Train Accuracy: 54.12%, Validation Accuracy: 58.05%\n"
     ]
    },
    {
     "name": "stderr",
     "output_type": "stream",
     "text": [
      "Epoch 2/50: 100%|██████████████████████████████████████████████████████████| 26/26 [00:08<00:00,  3.13it/s, Loss=0.513]\n"
     ]
    },
    {
     "name": "stdout",
     "output_type": "stream",
     "text": [
      "Epoch [2/50], Loss: 0.5132, Train Accuracy: 77.21%, Validation Accuracy: 78.29%\n"
     ]
    },
    {
     "name": "stderr",
     "output_type": "stream",
     "text": [
      "Epoch 3/50: 100%|██████████████████████████████████████████████████████████| 26/26 [00:06<00:00,  4.27it/s, Loss=0.492]\n"
     ]
    },
    {
     "name": "stdout",
     "output_type": "stream",
     "text": [
      "Epoch [3/50], Loss: 0.4923, Train Accuracy: 79.96%, Validation Accuracy: 80.00%\n"
     ]
    },
    {
     "name": "stderr",
     "output_type": "stream",
     "text": [
      "Epoch 4/50: 100%|██████████████████████████████████████████████████████████| 26/26 [00:06<00:00,  4.19it/s, Loss=0.458]\n"
     ]
    },
    {
     "name": "stdout",
     "output_type": "stream",
     "text": [
      "Epoch [4/50], Loss: 0.4578, Train Accuracy: 83.87%, Validation Accuracy: 80.73%\n"
     ]
    },
    {
     "name": "stderr",
     "output_type": "stream",
     "text": [
      "Epoch 5/50: 100%|██████████████████████████████████████████████████████████| 26/26 [00:06<00:00,  4.28it/s, Loss=0.452]\n"
     ]
    },
    {
     "name": "stdout",
     "output_type": "stream",
     "text": [
      "Epoch [5/50], Loss: 0.4517, Train Accuracy: 84.54%, Validation Accuracy: 81.71%\n"
     ]
    },
    {
     "name": "stderr",
     "output_type": "stream",
     "text": [
      "Epoch 6/50: 100%|██████████████████████████████████████████████████████████| 26/26 [00:06<00:00,  4.13it/s, Loss=0.397]\n"
     ]
    },
    {
     "name": "stdout",
     "output_type": "stream",
     "text": [
      "Epoch [6/50], Loss: 0.3971, Train Accuracy: 85.95%, Validation Accuracy: 80.98%\n"
     ]
    },
    {
     "name": "stderr",
     "output_type": "stream",
     "text": [
      "Epoch 7/50: 100%|██████████████████████████████████████████████████████████| 26/26 [00:06<00:00,  4.20it/s, Loss=0.382]\n"
     ]
    },
    {
     "name": "stdout",
     "output_type": "stream",
     "text": [
      "Epoch [7/50], Loss: 0.3821, Train Accuracy: 85.95%, Validation Accuracy: 81.46%\n"
     ]
    },
    {
     "name": "stderr",
     "output_type": "stream",
     "text": [
      "Epoch 8/50: 100%|██████████████████████████████████████████████████████████| 26/26 [00:06<00:00,  4.27it/s, Loss=0.371]\n"
     ]
    },
    {
     "name": "stdout",
     "output_type": "stream",
     "text": [
      "Epoch [8/50], Loss: 0.3707, Train Accuracy: 86.99%, Validation Accuracy: 84.63%\n"
     ]
    },
    {
     "name": "stderr",
     "output_type": "stream",
     "text": [
      "Epoch 9/50: 100%|██████████████████████████████████████████████████████████| 26/26 [00:06<00:00,  4.20it/s, Loss=0.343]\n"
     ]
    },
    {
     "name": "stdout",
     "output_type": "stream",
     "text": [
      "Epoch [9/50], Loss: 0.3433, Train Accuracy: 86.99%, Validation Accuracy: 82.68%\n"
     ]
    },
    {
     "name": "stderr",
     "output_type": "stream",
     "text": [
      "Epoch 10/50: 100%|█████████████████████████████████████████████████████████| 26/26 [00:06<00:00,  4.23it/s, Loss=0.312]\n"
     ]
    },
    {
     "name": "stdout",
     "output_type": "stream",
     "text": [
      "Epoch [10/50], Loss: 0.3124, Train Accuracy: 89.92%, Validation Accuracy: 79.51%\n"
     ]
    },
    {
     "name": "stderr",
     "output_type": "stream",
     "text": [
      "Epoch 11/50: 100%|█████████████████████████████████████████████████████████| 26/26 [00:06<00:00,  4.28it/s, Loss=0.298]\n"
     ]
    },
    {
     "name": "stdout",
     "output_type": "stream",
     "text": [
      "Epoch [11/50], Loss: 0.2981, Train Accuracy: 89.07%, Validation Accuracy: 83.66%\n",
      "Early stopping\n",
      "\n",
      "Run 3/5\n"
     ]
    },
    {
     "name": "stderr",
     "output_type": "stream",
     "text": [
      "Epoch 1/50: 100%|██████████████████████████████████████████████████████████| 26/26 [00:06<00:00,  4.07it/s, Loss=0.638]\n"
     ]
    },
    {
     "name": "stdout",
     "output_type": "stream",
     "text": [
      "Epoch [1/50], Loss: 0.6379, Train Accuracy: 54.31%, Validation Accuracy: 53.41%\n"
     ]
    },
    {
     "name": "stderr",
     "output_type": "stream",
     "text": [
      "Epoch 2/50: 100%|██████████████████████████████████████████████████████████| 26/26 [00:06<00:00,  3.78it/s, Loss=0.539]\n"
     ]
    },
    {
     "name": "stdout",
     "output_type": "stream",
     "text": [
      "Epoch [2/50], Loss: 0.5387, Train Accuracy: 74.53%, Validation Accuracy: 74.63%\n"
     ]
    },
    {
     "name": "stderr",
     "output_type": "stream",
     "text": [
      "Epoch 3/50: 100%|██████████████████████████████████████████████████████████| 26/26 [00:05<00:00,  4.37it/s, Loss=0.487]\n"
     ]
    },
    {
     "name": "stdout",
     "output_type": "stream",
     "text": [
      "Epoch [3/50], Loss: 0.4872, Train Accuracy: 78.68%, Validation Accuracy: 78.54%\n"
     ]
    },
    {
     "name": "stderr",
     "output_type": "stream",
     "text": [
      "Epoch 4/50: 100%|██████████████████████████████████████████████████████████| 26/26 [00:06<00:00,  4.25it/s, Loss=0.454]\n"
     ]
    },
    {
     "name": "stdout",
     "output_type": "stream",
     "text": [
      "Epoch [4/50], Loss: 0.4542, Train Accuracy: 81.86%, Validation Accuracy: 81.22%\n"
     ]
    },
    {
     "name": "stderr",
     "output_type": "stream",
     "text": [
      "Epoch 5/50: 100%|██████████████████████████████████████████████████████████| 26/26 [00:06<00:00,  4.26it/s, Loss=0.436]\n"
     ]
    },
    {
     "name": "stdout",
     "output_type": "stream",
     "text": [
      "Epoch [5/50], Loss: 0.4363, Train Accuracy: 82.41%, Validation Accuracy: 79.51%\n"
     ]
    },
    {
     "name": "stderr",
     "output_type": "stream",
     "text": [
      "Epoch 6/50: 100%|██████████████████████████████████████████████████████████| 26/26 [00:06<00:00,  4.30it/s, Loss=0.411]\n"
     ]
    },
    {
     "name": "stdout",
     "output_type": "stream",
     "text": [
      "Epoch [6/50], Loss: 0.4108, Train Accuracy: 85.95%, Validation Accuracy: 81.95%\n"
     ]
    },
    {
     "name": "stderr",
     "output_type": "stream",
     "text": [
      "Epoch 7/50: 100%|██████████████████████████████████████████████████████████| 26/26 [00:06<00:00,  4.23it/s, Loss=0.402]\n"
     ]
    },
    {
     "name": "stdout",
     "output_type": "stream",
     "text": [
      "Epoch [7/50], Loss: 0.4017, Train Accuracy: 86.38%, Validation Accuracy: 77.56%\n"
     ]
    },
    {
     "name": "stderr",
     "output_type": "stream",
     "text": [
      "Epoch 8/50: 100%|███████████████████████████████████████████████████████████| 26/26 [00:06<00:00,  4.24it/s, Loss=0.38]\n"
     ]
    },
    {
     "name": "stdout",
     "output_type": "stream",
     "text": [
      "Epoch [8/50], Loss: 0.3803, Train Accuracy: 86.19%, Validation Accuracy: 80.00%\n"
     ]
    },
    {
     "name": "stderr",
     "output_type": "stream",
     "text": [
      "Epoch 9/50: 100%|██████████████████████████████████████████████████████████| 26/26 [00:06<00:00,  4.30it/s, Loss=0.342]\n"
     ]
    },
    {
     "name": "stdout",
     "output_type": "stream",
     "text": [
      "Epoch [9/50], Loss: 0.3415, Train Accuracy: 88.82%, Validation Accuracy: 80.98%\n"
     ]
    },
    {
     "name": "stderr",
     "output_type": "stream",
     "text": [
      "Epoch 10/50: 100%|██████████████████████████████████████████████████████████| 26/26 [00:06<00:00,  3.95it/s, Loss=0.34]\n"
     ]
    },
    {
     "name": "stdout",
     "output_type": "stream",
     "text": [
      "Epoch [10/50], Loss: 0.3396, Train Accuracy: 87.42%, Validation Accuracy: 82.93%\n"
     ]
    },
    {
     "name": "stderr",
     "output_type": "stream",
     "text": [
      "Epoch 11/50: 100%|█████████████████████████████████████████████████████████| 26/26 [00:06<00:00,  4.27it/s, Loss=0.354]\n"
     ]
    },
    {
     "name": "stdout",
     "output_type": "stream",
     "text": [
      "Epoch [11/50], Loss: 0.3544, Train Accuracy: 85.52%, Validation Accuracy: 77.56%\n",
      "Early stopping\n",
      "\n",
      "Run 4/5\n"
     ]
    },
    {
     "name": "stderr",
     "output_type": "stream",
     "text": [
      "Epoch 1/50: 100%|██████████████████████████████████████████████████████████| 26/26 [00:06<00:00,  4.09it/s, Loss=0.657]\n"
     ]
    },
    {
     "name": "stdout",
     "output_type": "stream",
     "text": [
      "Epoch [1/50], Loss: 0.6570, Train Accuracy: 53.08%, Validation Accuracy: 53.41%\n"
     ]
    },
    {
     "name": "stderr",
     "output_type": "stream",
     "text": [
      "Epoch 2/50: 100%|██████████████████████████████████████████████████████████| 26/26 [00:06<00:00,  4.06it/s, Loss=0.537]\n"
     ]
    },
    {
     "name": "stdout",
     "output_type": "stream",
     "text": [
      "Epoch [2/50], Loss: 0.5367, Train Accuracy: 76.30%, Validation Accuracy: 74.63%\n"
     ]
    },
    {
     "name": "stderr",
     "output_type": "stream",
     "text": [
      "Epoch 3/50: 100%|██████████████████████████████████████████████████████████| 26/26 [00:06<00:00,  4.26it/s, Loss=0.503]\n"
     ]
    },
    {
     "name": "stdout",
     "output_type": "stream",
     "text": [
      "Epoch [3/50], Loss: 0.5027, Train Accuracy: 79.60%, Validation Accuracy: 77.32%\n"
     ]
    },
    {
     "name": "stderr",
     "output_type": "stream",
     "text": [
      "Epoch 4/50: 100%|██████████████████████████████████████████████████████████| 26/26 [00:06<00:00,  4.28it/s, Loss=0.482]\n"
     ]
    },
    {
     "name": "stdout",
     "output_type": "stream",
     "text": [
      "Epoch [4/50], Loss: 0.4816, Train Accuracy: 81.43%, Validation Accuracy: 77.32%\n"
     ]
    },
    {
     "name": "stderr",
     "output_type": "stream",
     "text": [
      "Epoch 5/50: 100%|██████████████████████████████████████████████████████████| 26/26 [00:06<00:00,  4.27it/s, Loss=0.449]\n"
     ]
    },
    {
     "name": "stdout",
     "output_type": "stream",
     "text": [
      "Epoch [5/50], Loss: 0.4492, Train Accuracy: 79.05%, Validation Accuracy: 74.15%\n"
     ]
    },
    {
     "name": "stderr",
     "output_type": "stream",
     "text": [
      "Epoch 6/50: 100%|██████████████████████████████████████████████████████████| 26/26 [00:06<00:00,  3.75it/s, Loss=0.442]\n"
     ]
    },
    {
     "name": "stdout",
     "output_type": "stream",
     "text": [
      "Epoch [6/50], Loss: 0.4421, Train Accuracy: 83.75%, Validation Accuracy: 79.51%\n"
     ]
    },
    {
     "name": "stderr",
     "output_type": "stream",
     "text": [
      "Epoch 7/50: 100%|██████████████████████████████████████████████████████████| 26/26 [00:06<00:00,  4.23it/s, Loss=0.417]\n"
     ]
    },
    {
     "name": "stdout",
     "output_type": "stream",
     "text": [
      "Epoch [7/50], Loss: 0.4167, Train Accuracy: 84.61%, Validation Accuracy: 78.78%\n"
     ]
    },
    {
     "name": "stderr",
     "output_type": "stream",
     "text": [
      "Epoch 8/50: 100%|██████████████████████████████████████████████████████████| 26/26 [00:05<00:00,  4.37it/s, Loss=0.395]\n"
     ]
    },
    {
     "name": "stdout",
     "output_type": "stream",
     "text": [
      "Epoch [8/50], Loss: 0.3954, Train Accuracy: 85.40%, Validation Accuracy: 79.51%\n"
     ]
    },
    {
     "name": "stderr",
     "output_type": "stream",
     "text": [
      "Epoch 9/50: 100%|███████████████████████████████████████████████████████████| 26/26 [00:06<00:00,  4.27it/s, Loss=0.37]\n"
     ]
    },
    {
     "name": "stdout",
     "output_type": "stream",
     "text": [
      "Epoch [9/50], Loss: 0.3703, Train Accuracy: 86.32%, Validation Accuracy: 82.44%\n"
     ]
    },
    {
     "name": "stderr",
     "output_type": "stream",
     "text": [
      "Epoch 10/50: 100%|█████████████████████████████████████████████████████████| 26/26 [00:06<00:00,  4.18it/s, Loss=0.344]\n"
     ]
    },
    {
     "name": "stdout",
     "output_type": "stream",
     "text": [
      "Epoch [10/50], Loss: 0.3441, Train Accuracy: 87.54%, Validation Accuracy: 83.90%\n"
     ]
    },
    {
     "name": "stderr",
     "output_type": "stream",
     "text": [
      "Epoch 11/50: 100%|█████████████████████████████████████████████████████████| 26/26 [00:06<00:00,  4.22it/s, Loss=0.334]\n"
     ]
    },
    {
     "name": "stdout",
     "output_type": "stream",
     "text": [
      "Epoch [11/50], Loss: 0.3337, Train Accuracy: 87.05%, Validation Accuracy: 82.68%\n",
      "Early stopping\n",
      "\n",
      "Run 5/5\n"
     ]
    },
    {
     "name": "stderr",
     "output_type": "stream",
     "text": [
      "Epoch 1/50: 100%|██████████████████████████████████████████████████████████| 26/26 [00:06<00:00,  4.06it/s, Loss=0.652]\n"
     ]
    },
    {
     "name": "stdout",
     "output_type": "stream",
     "text": [
      "Epoch [1/50], Loss: 0.6523, Train Accuracy: 53.39%, Validation Accuracy: 56.34%\n"
     ]
    },
    {
     "name": "stderr",
     "output_type": "stream",
     "text": [
      "Epoch 2/50: 100%|██████████████████████████████████████████████████████████| 26/26 [00:06<00:00,  4.20it/s, Loss=0.542]\n"
     ]
    },
    {
     "name": "stdout",
     "output_type": "stream",
     "text": [
      "Epoch [2/50], Loss: 0.5419, Train Accuracy: 77.40%, Validation Accuracy: 79.27%\n"
     ]
    },
    {
     "name": "stderr",
     "output_type": "stream",
     "text": [
      "Epoch 3/50: 100%|██████████████████████████████████████████████████████████| 26/26 [00:06<00:00,  4.21it/s, Loss=0.513]\n"
     ]
    },
    {
     "name": "stdout",
     "output_type": "stream",
     "text": [
      "Epoch [3/50], Loss: 0.5133, Train Accuracy: 78.62%, Validation Accuracy: 80.73%\n"
     ]
    },
    {
     "name": "stderr",
     "output_type": "stream",
     "text": [
      "Epoch 4/50: 100%|██████████████████████████████████████████████████████████| 26/26 [00:06<00:00,  4.30it/s, Loss=0.493]\n"
     ]
    },
    {
     "name": "stdout",
     "output_type": "stream",
     "text": [
      "Epoch [4/50], Loss: 0.4930, Train Accuracy: 80.27%, Validation Accuracy: 81.22%\n"
     ]
    },
    {
     "name": "stderr",
     "output_type": "stream",
     "text": [
      "Epoch 5/50: 100%|███████████████████████████████████████████████████████████| 26/26 [00:06<00:00,  4.28it/s, Loss=0.46]\n"
     ]
    },
    {
     "name": "stdout",
     "output_type": "stream",
     "text": [
      "Epoch [5/50], Loss: 0.4597, Train Accuracy: 81.00%, Validation Accuracy: 80.49%\n"
     ]
    },
    {
     "name": "stderr",
     "output_type": "stream",
     "text": [
      "Epoch 6/50: 100%|██████████████████████████████████████████████████████████| 26/26 [00:06<00:00,  4.16it/s, Loss=0.455]\n"
     ]
    },
    {
     "name": "stdout",
     "output_type": "stream",
     "text": [
      "Epoch [6/50], Loss: 0.4547, Train Accuracy: 78.68%, Validation Accuracy: 76.83%\n"
     ]
    },
    {
     "name": "stderr",
     "output_type": "stream",
     "text": [
      "Epoch 7/50: 100%|██████████████████████████████████████████████████████████| 26/26 [00:06<00:00,  4.23it/s, Loss=0.421]\n"
     ]
    },
    {
     "name": "stdout",
     "output_type": "stream",
     "text": [
      "Epoch [7/50], Loss: 0.4215, Train Accuracy: 82.41%, Validation Accuracy: 78.54%\n"
     ]
    },
    {
     "name": "stderr",
     "output_type": "stream",
     "text": [
      "Epoch 8/50: 100%|██████████████████████████████████████████████████████████| 26/26 [00:06<00:00,  4.27it/s, Loss=0.406]\n"
     ]
    },
    {
     "name": "stdout",
     "output_type": "stream",
     "text": [
      "Epoch [8/50], Loss: 0.4057, Train Accuracy: 85.34%, Validation Accuracy: 83.17%\n"
     ]
    },
    {
     "name": "stderr",
     "output_type": "stream",
     "text": [
      "Epoch 9/50: 100%|██████████████████████████████████████████████████████████| 26/26 [00:06<00:00,  4.21it/s, Loss=0.373]\n"
     ]
    },
    {
     "name": "stdout",
     "output_type": "stream",
     "text": [
      "Epoch [9/50], Loss: 0.3728, Train Accuracy: 86.50%, Validation Accuracy: 82.20%\n"
     ]
    },
    {
     "name": "stderr",
     "output_type": "stream",
     "text": [
      "Epoch 10/50: 100%|█████████████████████████████████████████████████████████| 26/26 [00:06<00:00,  4.22it/s, Loss=0.346]\n"
     ]
    },
    {
     "name": "stdout",
     "output_type": "stream",
     "text": [
      "Epoch [10/50], Loss: 0.3465, Train Accuracy: 86.56%, Validation Accuracy: 82.44%\n"
     ]
    },
    {
     "name": "stderr",
     "output_type": "stream",
     "text": [
      "Epoch 11/50: 100%|█████████████████████████████████████████████████████████| 26/26 [00:06<00:00,  4.26it/s, Loss=0.344]\n"
     ]
    },
    {
     "name": "stdout",
     "output_type": "stream",
     "text": [
      "Epoch [11/50], Loss: 0.3441, Train Accuracy: 85.22%, Validation Accuracy: 81.22%\n",
      "Early stopping\n",
      "\n",
      "Running experiment with random_rotation\n",
      "\n",
      "Run 1/5\n"
     ]
    },
    {
     "name": "stderr",
     "output_type": "stream",
     "text": [
      "Epoch 1/50: 100%|██████████████████████████████████████████████████████████| 26/26 [00:03<00:00,  7.86it/s, Loss=0.638]\n"
     ]
    },
    {
     "name": "stdout",
     "output_type": "stream",
     "text": [
      "Epoch [1/50], Loss: 0.6377, Train Accuracy: 53.15%, Validation Accuracy: 49.76%\n"
     ]
    },
    {
     "name": "stderr",
     "output_type": "stream",
     "text": [
      "Epoch 2/50: 100%|██████████████████████████████████████████████████████████| 26/26 [00:03<00:00,  6.70it/s, Loss=0.521]\n"
     ]
    },
    {
     "name": "stdout",
     "output_type": "stream",
     "text": [
      "Epoch [2/50], Loss: 0.5211, Train Accuracy: 77.52%, Validation Accuracy: 74.63%\n"
     ]
    },
    {
     "name": "stderr",
     "output_type": "stream",
     "text": [
      "Epoch 3/50: 100%|██████████████████████████████████████████████████████████| 26/26 [00:03<00:00,  6.79it/s, Loss=0.489]\n"
     ]
    },
    {
     "name": "stdout",
     "output_type": "stream",
     "text": [
      "Epoch [3/50], Loss: 0.4886, Train Accuracy: 81.19%, Validation Accuracy: 80.98%\n"
     ]
    },
    {
     "name": "stderr",
     "output_type": "stream",
     "text": [
      "Epoch 4/50: 100%|██████████████████████████████████████████████████████████| 26/26 [00:03<00:00,  6.63it/s, Loss=0.466]\n"
     ]
    },
    {
     "name": "stdout",
     "output_type": "stream",
     "text": [
      "Epoch [4/50], Loss: 0.4663, Train Accuracy: 81.61%, Validation Accuracy: 82.20%\n"
     ]
    },
    {
     "name": "stderr",
     "output_type": "stream",
     "text": [
      "Epoch 5/50: 100%|██████████████████████████████████████████████████████████| 26/26 [00:03<00:00,  6.64it/s, Loss=0.441]\n"
     ]
    },
    {
     "name": "stdout",
     "output_type": "stream",
     "text": [
      "Epoch [5/50], Loss: 0.4410, Train Accuracy: 77.95%, Validation Accuracy: 72.93%\n"
     ]
    },
    {
     "name": "stderr",
     "output_type": "stream",
     "text": [
      "Epoch 6/50: 100%|██████████████████████████████████████████████████████████| 26/26 [00:03<00:00,  6.76it/s, Loss=0.441]\n"
     ]
    },
    {
     "name": "stdout",
     "output_type": "stream",
     "text": [
      "Epoch [6/50], Loss: 0.4412, Train Accuracy: 76.48%, Validation Accuracy: 76.59%\n"
     ]
    },
    {
     "name": "stderr",
     "output_type": "stream",
     "text": [
      "Epoch 7/50: 100%|██████████████████████████████████████████████████████████| 26/26 [00:03<00:00,  6.78it/s, Loss=0.401]\n"
     ]
    },
    {
     "name": "stdout",
     "output_type": "stream",
     "text": [
      "Epoch [7/50], Loss: 0.4011, Train Accuracy: 83.26%, Validation Accuracy: 80.24%\n"
     ]
    },
    {
     "name": "stderr",
     "output_type": "stream",
     "text": [
      "Epoch 8/50: 100%|██████████████████████████████████████████████████████████| 26/26 [00:03<00:00,  6.63it/s, Loss=0.383]\n"
     ]
    },
    {
     "name": "stdout",
     "output_type": "stream",
     "text": [
      "Epoch [8/50], Loss: 0.3830, Train Accuracy: 84.00%, Validation Accuracy: 81.71%\n"
     ]
    },
    {
     "name": "stderr",
     "output_type": "stream",
     "text": [
      "Epoch 9/50: 100%|██████████████████████████████████████████████████████████| 26/26 [00:03<00:00,  6.60it/s, Loss=0.388]\n"
     ]
    },
    {
     "name": "stdout",
     "output_type": "stream",
     "text": [
      "Epoch [9/50], Loss: 0.3882, Train Accuracy: 81.61%, Validation Accuracy: 79.02%\n"
     ]
    },
    {
     "name": "stderr",
     "output_type": "stream",
     "text": [
      "Epoch 10/50: 100%|█████████████████████████████████████████████████████████| 26/26 [00:03<00:00,  6.84it/s, Loss=0.372]\n"
     ]
    },
    {
     "name": "stdout",
     "output_type": "stream",
     "text": [
      "Epoch [10/50], Loss: 0.3720, Train Accuracy: 82.10%, Validation Accuracy: 78.78%\n"
     ]
    },
    {
     "name": "stderr",
     "output_type": "stream",
     "text": [
      "Epoch 11/50: 100%|█████████████████████████████████████████████████████████| 26/26 [00:03<00:00,  6.62it/s, Loss=0.384]\n"
     ]
    },
    {
     "name": "stdout",
     "output_type": "stream",
     "text": [
      "Epoch [11/50], Loss: 0.3837, Train Accuracy: 82.96%, Validation Accuracy: 79.27%\n",
      "Early stopping\n",
      "\n",
      "Run 2/5\n"
     ]
    },
    {
     "name": "stderr",
     "output_type": "stream",
     "text": [
      "Epoch 1/50: 100%|██████████████████████████████████████████████████████████| 26/26 [00:03<00:00,  6.57it/s, Loss=0.646]\n"
     ]
    },
    {
     "name": "stdout",
     "output_type": "stream",
     "text": [
      "Epoch [1/50], Loss: 0.6457, Train Accuracy: 53.63%, Validation Accuracy: 51.95%\n"
     ]
    },
    {
     "name": "stderr",
     "output_type": "stream",
     "text": [
      "Epoch 2/50: 100%|██████████████████████████████████████████████████████████| 26/26 [00:03<00:00,  6.73it/s, Loss=0.518]\n"
     ]
    },
    {
     "name": "stdout",
     "output_type": "stream",
     "text": [
      "Epoch [2/50], Loss: 0.5179, Train Accuracy: 75.63%, Validation Accuracy: 72.20%\n"
     ]
    },
    {
     "name": "stderr",
     "output_type": "stream",
     "text": [
      "Epoch 3/50: 100%|██████████████████████████████████████████████████████████| 26/26 [00:03<00:00,  6.76it/s, Loss=0.479]\n"
     ]
    },
    {
     "name": "stdout",
     "output_type": "stream",
     "text": [
      "Epoch [3/50], Loss: 0.4788, Train Accuracy: 82.04%, Validation Accuracy: 75.61%\n"
     ]
    },
    {
     "name": "stderr",
     "output_type": "stream",
     "text": [
      "Epoch 4/50: 100%|██████████████████████████████████████████████████████████| 26/26 [00:03<00:00,  6.68it/s, Loss=0.473]\n"
     ]
    },
    {
     "name": "stdout",
     "output_type": "stream",
     "text": [
      "Epoch [4/50], Loss: 0.4732, Train Accuracy: 79.78%, Validation Accuracy: 75.61%\n"
     ]
    },
    {
     "name": "stderr",
     "output_type": "stream",
     "text": [
      "Epoch 5/50: 100%|██████████████████████████████████████████████████████████| 26/26 [00:03<00:00,  6.78it/s, Loss=0.439]\n"
     ]
    },
    {
     "name": "stdout",
     "output_type": "stream",
     "text": [
      "Epoch [5/50], Loss: 0.4385, Train Accuracy: 82.41%, Validation Accuracy: 78.29%\n"
     ]
    },
    {
     "name": "stderr",
     "output_type": "stream",
     "text": [
      "Epoch 6/50: 100%|██████████████████████████████████████████████████████████| 26/26 [00:03<00:00,  6.62it/s, Loss=0.417]\n"
     ]
    },
    {
     "name": "stdout",
     "output_type": "stream",
     "text": [
      "Epoch [6/50], Loss: 0.4166, Train Accuracy: 83.38%, Validation Accuracy: 79.51%\n"
     ]
    },
    {
     "name": "stderr",
     "output_type": "stream",
     "text": [
      "Epoch 7/50: 100%|██████████████████████████████████████████████████████████| 26/26 [00:03<00:00,  6.77it/s, Loss=0.399]\n"
     ]
    },
    {
     "name": "stdout",
     "output_type": "stream",
     "text": [
      "Epoch [7/50], Loss: 0.3988, Train Accuracy: 84.73%, Validation Accuracy: 79.27%\n"
     ]
    },
    {
     "name": "stderr",
     "output_type": "stream",
     "text": [
      "Epoch 8/50: 100%|██████████████████████████████████████████████████████████| 26/26 [00:03<00:00,  6.75it/s, Loss=0.375]\n"
     ]
    },
    {
     "name": "stdout",
     "output_type": "stream",
     "text": [
      "Epoch [8/50], Loss: 0.3748, Train Accuracy: 82.83%, Validation Accuracy: 77.07%\n"
     ]
    },
    {
     "name": "stderr",
     "output_type": "stream",
     "text": [
      "Epoch 9/50: 100%|██████████████████████████████████████████████████████████| 26/26 [00:03<00:00,  6.74it/s, Loss=0.383]\n"
     ]
    },
    {
     "name": "stdout",
     "output_type": "stream",
     "text": [
      "Epoch [9/50], Loss: 0.3834, Train Accuracy: 85.95%, Validation Accuracy: 80.98%\n"
     ]
    },
    {
     "name": "stderr",
     "output_type": "stream",
     "text": [
      "Epoch 10/50: 100%|█████████████████████████████████████████████████████████| 26/26 [00:03<00:00,  6.69it/s, Loss=0.366]\n"
     ]
    },
    {
     "name": "stdout",
     "output_type": "stream",
     "text": [
      "Epoch [10/50], Loss: 0.3655, Train Accuracy: 87.42%, Validation Accuracy: 80.49%\n"
     ]
    },
    {
     "name": "stderr",
     "output_type": "stream",
     "text": [
      "Epoch 11/50: 100%|█████████████████████████████████████████████████████████| 26/26 [00:03<00:00,  6.58it/s, Loss=0.343]\n"
     ]
    },
    {
     "name": "stdout",
     "output_type": "stream",
     "text": [
      "Epoch [11/50], Loss: 0.3432, Train Accuracy: 85.83%, Validation Accuracy: 80.49%\n",
      "Early stopping\n",
      "\n",
      "Run 3/5\n"
     ]
    },
    {
     "name": "stderr",
     "output_type": "stream",
     "text": [
      "Epoch 1/50: 100%|██████████████████████████████████████████████████████████| 26/26 [00:03<00:00,  6.73it/s, Loss=0.675]\n"
     ]
    },
    {
     "name": "stdout",
     "output_type": "stream",
     "text": [
      "Epoch [1/50], Loss: 0.6748, Train Accuracy: 54.00%, Validation Accuracy: 48.05%\n"
     ]
    },
    {
     "name": "stderr",
     "output_type": "stream",
     "text": [
      "Epoch 2/50: 100%|███████████████████████████████████████████████████████████| 26/26 [00:03<00:00,  6.72it/s, Loss=0.58]\n"
     ]
    },
    {
     "name": "stdout",
     "output_type": "stream",
     "text": [
      "Epoch [2/50], Loss: 0.5802, Train Accuracy: 73.37%, Validation Accuracy: 69.51%\n"
     ]
    },
    {
     "name": "stderr",
     "output_type": "stream",
     "text": [
      "Epoch 3/50: 100%|██████████████████████████████████████████████████████████| 26/26 [00:03<00:00,  6.56it/s, Loss=0.532]\n"
     ]
    },
    {
     "name": "stdout",
     "output_type": "stream",
     "text": [
      "Epoch [3/50], Loss: 0.5318, Train Accuracy: 79.90%, Validation Accuracy: 73.41%\n"
     ]
    },
    {
     "name": "stderr",
     "output_type": "stream",
     "text": [
      "Epoch 4/50: 100%|██████████████████████████████████████████████████████████| 26/26 [00:03<00:00,  6.59it/s, Loss=0.496]\n"
     ]
    },
    {
     "name": "stdout",
     "output_type": "stream",
     "text": [
      "Epoch [4/50], Loss: 0.4958, Train Accuracy: 78.31%, Validation Accuracy: 69.02%\n"
     ]
    },
    {
     "name": "stderr",
     "output_type": "stream",
     "text": [
      "Epoch 5/50: 100%|██████████████████████████████████████████████████████████| 26/26 [00:03<00:00,  6.67it/s, Loss=0.474]\n"
     ]
    },
    {
     "name": "stdout",
     "output_type": "stream",
     "text": [
      "Epoch [5/50], Loss: 0.4735, Train Accuracy: 81.86%, Validation Accuracy: 76.59%\n"
     ]
    },
    {
     "name": "stderr",
     "output_type": "stream",
     "text": [
      "Epoch 6/50: 100%|██████████████████████████████████████████████████████████| 26/26 [00:03<00:00,  6.64it/s, Loss=0.462]\n"
     ]
    },
    {
     "name": "stdout",
     "output_type": "stream",
     "text": [
      "Epoch [6/50], Loss: 0.4620, Train Accuracy: 77.95%, Validation Accuracy: 74.88%\n"
     ]
    },
    {
     "name": "stderr",
     "output_type": "stream",
     "text": [
      "Epoch 7/50: 100%|██████████████████████████████████████████████████████████| 26/26 [00:03<00:00,  6.75it/s, Loss=0.437]\n"
     ]
    },
    {
     "name": "stdout",
     "output_type": "stream",
     "text": [
      "Epoch [7/50], Loss: 0.4368, Train Accuracy: 85.03%, Validation Accuracy: 77.80%\n"
     ]
    },
    {
     "name": "stderr",
     "output_type": "stream",
     "text": [
      "Epoch 8/50: 100%|██████████████████████████████████████████████████████████| 26/26 [00:03<00:00,  6.64it/s, Loss=0.424]\n"
     ]
    },
    {
     "name": "stdout",
     "output_type": "stream",
     "text": [
      "Epoch [8/50], Loss: 0.4238, Train Accuracy: 84.06%, Validation Accuracy: 77.80%\n"
     ]
    },
    {
     "name": "stderr",
     "output_type": "stream",
     "text": [
      "Epoch 9/50: 100%|██████████████████████████████████████████████████████████| 26/26 [00:03<00:00,  6.80it/s, Loss=0.418]\n"
     ]
    },
    {
     "name": "stdout",
     "output_type": "stream",
     "text": [
      "Epoch [9/50], Loss: 0.4177, Train Accuracy: 83.26%, Validation Accuracy: 78.05%\n"
     ]
    },
    {
     "name": "stderr",
     "output_type": "stream",
     "text": [
      "Epoch 10/50: 100%|█████████████████████████████████████████████████████████| 26/26 [00:03<00:00,  6.68it/s, Loss=0.402]\n"
     ]
    },
    {
     "name": "stdout",
     "output_type": "stream",
     "text": [
      "Epoch [10/50], Loss: 0.4019, Train Accuracy: 83.75%, Validation Accuracy: 78.78%\n"
     ]
    },
    {
     "name": "stderr",
     "output_type": "stream",
     "text": [
      "Epoch 11/50: 100%|█████████████████████████████████████████████████████████| 26/26 [00:03<00:00,  6.84it/s, Loss=0.407]\n"
     ]
    },
    {
     "name": "stdout",
     "output_type": "stream",
     "text": [
      "Epoch [11/50], Loss: 0.4070, Train Accuracy: 85.46%, Validation Accuracy: 78.54%\n",
      "Early stopping\n",
      "\n",
      "Run 4/5\n"
     ]
    },
    {
     "name": "stderr",
     "output_type": "stream",
     "text": [
      "Epoch 1/50: 100%|██████████████████████████████████████████████████████████| 26/26 [00:03<00:00,  6.63it/s, Loss=0.673]\n"
     ]
    },
    {
     "name": "stdout",
     "output_type": "stream",
     "text": [
      "Epoch [1/50], Loss: 0.6729, Train Accuracy: 68.05%, Validation Accuracy: 65.37%\n"
     ]
    },
    {
     "name": "stderr",
     "output_type": "stream",
     "text": [
      "Epoch 2/50: 100%|██████████████████████████████████████████████████████████| 26/26 [00:03<00:00,  6.75it/s, Loss=0.545]\n"
     ]
    },
    {
     "name": "stdout",
     "output_type": "stream",
     "text": [
      "Epoch [2/50], Loss: 0.5446, Train Accuracy: 76.48%, Validation Accuracy: 76.10%\n"
     ]
    },
    {
     "name": "stderr",
     "output_type": "stream",
     "text": [
      "Epoch 3/50: 100%|██████████████████████████████████████████████████████████| 26/26 [00:03<00:00,  6.73it/s, Loss=0.498]\n"
     ]
    },
    {
     "name": "stdout",
     "output_type": "stream",
     "text": [
      "Epoch [3/50], Loss: 0.4985, Train Accuracy: 78.56%, Validation Accuracy: 76.10%\n"
     ]
    },
    {
     "name": "stderr",
     "output_type": "stream",
     "text": [
      "Epoch 4/50: 100%|██████████████████████████████████████████████████████████| 26/26 [00:03<00:00,  6.94it/s, Loss=0.477]\n"
     ]
    },
    {
     "name": "stdout",
     "output_type": "stream",
     "text": [
      "Epoch [4/50], Loss: 0.4770, Train Accuracy: 80.02%, Validation Accuracy: 77.32%\n"
     ]
    },
    {
     "name": "stderr",
     "output_type": "stream",
     "text": [
      "Epoch 5/50: 100%|██████████████████████████████████████████████████████████| 26/26 [00:03<00:00,  6.81it/s, Loss=0.449]\n"
     ]
    },
    {
     "name": "stdout",
     "output_type": "stream",
     "text": [
      "Epoch [5/50], Loss: 0.4486, Train Accuracy: 82.59%, Validation Accuracy: 78.54%\n"
     ]
    },
    {
     "name": "stderr",
     "output_type": "stream",
     "text": [
      "Epoch 6/50: 100%|███████████████████████████████████████████████████████████| 26/26 [00:03<00:00,  6.58it/s, Loss=0.43]\n"
     ]
    },
    {
     "name": "stdout",
     "output_type": "stream",
     "text": [
      "Epoch [6/50], Loss: 0.4301, Train Accuracy: 82.41%, Validation Accuracy: 81.95%\n"
     ]
    },
    {
     "name": "stderr",
     "output_type": "stream",
     "text": [
      "Epoch 7/50: 100%|███████████████████████████████████████████████████████████| 26/26 [00:03<00:00,  6.70it/s, Loss=0.41]\n"
     ]
    },
    {
     "name": "stdout",
     "output_type": "stream",
     "text": [
      "Epoch [7/50], Loss: 0.4103, Train Accuracy: 81.55%, Validation Accuracy: 74.88%\n"
     ]
    },
    {
     "name": "stderr",
     "output_type": "stream",
     "text": [
      "Epoch 8/50: 100%|██████████████████████████████████████████████████████████| 26/26 [00:03<00:00,  6.57it/s, Loss=0.395]\n"
     ]
    },
    {
     "name": "stdout",
     "output_type": "stream",
     "text": [
      "Epoch [8/50], Loss: 0.3947, Train Accuracy: 83.93%, Validation Accuracy: 81.46%\n"
     ]
    },
    {
     "name": "stderr",
     "output_type": "stream",
     "text": [
      "Epoch 9/50: 100%|██████████████████████████████████████████████████████████| 26/26 [00:03<00:00,  6.73it/s, Loss=0.382]\n"
     ]
    },
    {
     "name": "stdout",
     "output_type": "stream",
     "text": [
      "Epoch [9/50], Loss: 0.3819, Train Accuracy: 83.32%, Validation Accuracy: 80.24%\n"
     ]
    },
    {
     "name": "stderr",
     "output_type": "stream",
     "text": [
      "Epoch 10/50: 100%|█████████████████████████████████████████████████████████| 26/26 [00:03<00:00,  6.68it/s, Loss=0.374]\n"
     ]
    },
    {
     "name": "stdout",
     "output_type": "stream",
     "text": [
      "Epoch [10/50], Loss: 0.3745, Train Accuracy: 75.87%, Validation Accuracy: 69.51%\n"
     ]
    },
    {
     "name": "stderr",
     "output_type": "stream",
     "text": [
      "Epoch 11/50: 100%|█████████████████████████████████████████████████████████| 26/26 [00:03<00:00,  6.81it/s, Loss=0.378]\n"
     ]
    },
    {
     "name": "stdout",
     "output_type": "stream",
     "text": [
      "Epoch [11/50], Loss: 0.3783, Train Accuracy: 86.68%, Validation Accuracy: 81.46%\n",
      "Early stopping\n",
      "\n",
      "Run 5/5\n"
     ]
    },
    {
     "name": "stderr",
     "output_type": "stream",
     "text": [
      "Epoch 1/50: 100%|██████████████████████████████████████████████████████████| 26/26 [00:03<00:00,  6.66it/s, Loss=0.735]\n"
     ]
    },
    {
     "name": "stdout",
     "output_type": "stream",
     "text": [
      "Epoch [1/50], Loss: 0.7346, Train Accuracy: 52.90%, Validation Accuracy: 51.22%\n"
     ]
    },
    {
     "name": "stderr",
     "output_type": "stream",
     "text": [
      "Epoch 2/50: 100%|██████████████████████████████████████████████████████████| 26/26 [00:03<00:00,  6.66it/s, Loss=0.568]\n"
     ]
    },
    {
     "name": "stdout",
     "output_type": "stream",
     "text": [
      "Epoch [2/50], Loss: 0.5678, Train Accuracy: 75.81%, Validation Accuracy: 75.37%\n"
     ]
    },
    {
     "name": "stderr",
     "output_type": "stream",
     "text": [
      "Epoch 3/50: 100%|██████████████████████████████████████████████████████████| 26/26 [00:03<00:00,  6.69it/s, Loss=0.541]\n"
     ]
    },
    {
     "name": "stdout",
     "output_type": "stream",
     "text": [
      "Epoch [3/50], Loss: 0.5413, Train Accuracy: 71.90%, Validation Accuracy: 73.17%\n"
     ]
    },
    {
     "name": "stderr",
     "output_type": "stream",
     "text": [
      "Epoch 4/50: 100%|██████████████████████████████████████████████████████████| 26/26 [00:03<00:00,  6.67it/s, Loss=0.501]\n"
     ]
    },
    {
     "name": "stdout",
     "output_type": "stream",
     "text": [
      "Epoch [4/50], Loss: 0.5008, Train Accuracy: 80.09%, Validation Accuracy: 75.61%\n"
     ]
    },
    {
     "name": "stderr",
     "output_type": "stream",
     "text": [
      "Epoch 5/50: 100%|██████████████████████████████████████████████████████████| 26/26 [00:03<00:00,  6.72it/s, Loss=0.478]\n"
     ]
    },
    {
     "name": "stdout",
     "output_type": "stream",
     "text": [
      "Epoch [5/50], Loss: 0.4777, Train Accuracy: 80.15%, Validation Accuracy: 76.83%\n"
     ]
    },
    {
     "name": "stderr",
     "output_type": "stream",
     "text": [
      "Epoch 6/50: 100%|██████████████████████████████████████████████████████████| 26/26 [00:04<00:00,  6.47it/s, Loss=0.472]\n"
     ]
    },
    {
     "name": "stdout",
     "output_type": "stream",
     "text": [
      "Epoch [6/50], Loss: 0.4719, Train Accuracy: 81.92%, Validation Accuracy: 78.78%\n"
     ]
    },
    {
     "name": "stderr",
     "output_type": "stream",
     "text": [
      "Epoch 7/50: 100%|██████████████████████████████████████████████████████████| 26/26 [00:03<00:00,  6.72it/s, Loss=0.456]\n"
     ]
    },
    {
     "name": "stdout",
     "output_type": "stream",
     "text": [
      "Epoch [7/50], Loss: 0.4561, Train Accuracy: 82.22%, Validation Accuracy: 77.56%\n"
     ]
    },
    {
     "name": "stderr",
     "output_type": "stream",
     "text": [
      "Epoch 8/50: 100%|███████████████████████████████████████████████████████████| 26/26 [00:03<00:00,  6.73it/s, Loss=0.44]\n"
     ]
    },
    {
     "name": "stdout",
     "output_type": "stream",
     "text": [
      "Epoch [8/50], Loss: 0.4399, Train Accuracy: 83.63%, Validation Accuracy: 77.32%\n"
     ]
    },
    {
     "name": "stderr",
     "output_type": "stream",
     "text": [
      "Epoch 9/50: 100%|██████████████████████████████████████████████████████████| 26/26 [00:03<00:00,  6.71it/s, Loss=0.423]\n"
     ]
    },
    {
     "name": "stdout",
     "output_type": "stream",
     "text": [
      "Epoch [9/50], Loss: 0.4230, Train Accuracy: 83.57%, Validation Accuracy: 77.80%\n"
     ]
    },
    {
     "name": "stderr",
     "output_type": "stream",
     "text": [
      "Epoch 10/50: 100%|█████████████████████████████████████████████████████████| 26/26 [00:03<00:00,  6.79it/s, Loss=0.411]\n"
     ]
    },
    {
     "name": "stdout",
     "output_type": "stream",
     "text": [
      "Epoch [10/50], Loss: 0.4113, Train Accuracy: 85.16%, Validation Accuracy: 77.56%\n"
     ]
    },
    {
     "name": "stderr",
     "output_type": "stream",
     "text": [
      "Epoch 11/50: 100%|█████████████████████████████████████████████████████████| 26/26 [00:03<00:00,  6.65it/s, Loss=0.388]\n"
     ]
    },
    {
     "name": "stdout",
     "output_type": "stream",
     "text": [
      "Epoch [11/50], Loss: 0.3883, Train Accuracy: 84.91%, Validation Accuracy: 77.80%\n",
      "Early stopping\n",
      "\n",
      "Running experiment with random_horizontal_flip\n",
      "\n",
      "Run 1/5\n"
     ]
    },
    {
     "name": "stderr",
     "output_type": "stream",
     "text": [
      "Epoch 1/50: 100%|██████████████████████████████████████████████████████████| 26/26 [00:03<00:00,  6.97it/s, Loss=0.615]\n"
     ]
    },
    {
     "name": "stdout",
     "output_type": "stream",
     "text": [
      "Epoch [1/50], Loss: 0.6148, Train Accuracy: 52.60%, Validation Accuracy: 52.93%\n"
     ]
    },
    {
     "name": "stderr",
     "output_type": "stream",
     "text": [
      "Epoch 2/50: 100%|██████████████████████████████████████████████████████████| 26/26 [00:03<00:00,  6.80it/s, Loss=0.521]\n"
     ]
    },
    {
     "name": "stdout",
     "output_type": "stream",
     "text": [
      "Epoch [2/50], Loss: 0.5215, Train Accuracy: 69.82%, Validation Accuracy: 67.32%\n"
     ]
    },
    {
     "name": "stderr",
     "output_type": "stream",
     "text": [
      "Epoch 3/50: 100%|██████████████████████████████████████████████████████████| 26/26 [00:03<00:00,  7.01it/s, Loss=0.482]\n"
     ]
    },
    {
     "name": "stdout",
     "output_type": "stream",
     "text": [
      "Epoch [3/50], Loss: 0.4823, Train Accuracy: 78.44%, Validation Accuracy: 77.32%\n"
     ]
    },
    {
     "name": "stderr",
     "output_type": "stream",
     "text": [
      "Epoch 4/50: 100%|██████████████████████████████████████████████████████████| 26/26 [00:03<00:00,  6.80it/s, Loss=0.451]\n"
     ]
    },
    {
     "name": "stdout",
     "output_type": "stream",
     "text": [
      "Epoch [4/50], Loss: 0.4510, Train Accuracy: 81.31%, Validation Accuracy: 78.78%\n"
     ]
    },
    {
     "name": "stderr",
     "output_type": "stream",
     "text": [
      "Epoch 5/50: 100%|██████████████████████████████████████████████████████████| 26/26 [00:03<00:00,  6.98it/s, Loss=0.443]\n"
     ]
    },
    {
     "name": "stdout",
     "output_type": "stream",
     "text": [
      "Epoch [5/50], Loss: 0.4431, Train Accuracy: 81.31%, Validation Accuracy: 78.78%\n"
     ]
    },
    {
     "name": "stderr",
     "output_type": "stream",
     "text": [
      "Epoch 6/50: 100%|██████████████████████████████████████████████████████████| 26/26 [00:03<00:00,  6.79it/s, Loss=0.413]\n"
     ]
    },
    {
     "name": "stdout",
     "output_type": "stream",
     "text": [
      "Epoch [6/50], Loss: 0.4128, Train Accuracy: 80.70%, Validation Accuracy: 76.34%\n"
     ]
    },
    {
     "name": "stderr",
     "output_type": "stream",
     "text": [
      "Epoch 7/50: 100%|██████████████████████████████████████████████████████████| 26/26 [00:03<00:00,  6.94it/s, Loss=0.399]\n"
     ]
    },
    {
     "name": "stdout",
     "output_type": "stream",
     "text": [
      "Epoch [7/50], Loss: 0.3986, Train Accuracy: 83.32%, Validation Accuracy: 80.73%\n"
     ]
    },
    {
     "name": "stderr",
     "output_type": "stream",
     "text": [
      "Epoch 8/50: 100%|██████████████████████████████████████████████████████████| 26/26 [00:03<00:00,  6.89it/s, Loss=0.379]\n"
     ]
    },
    {
     "name": "stdout",
     "output_type": "stream",
     "text": [
      "Epoch [8/50], Loss: 0.3787, Train Accuracy: 84.73%, Validation Accuracy: 81.95%\n"
     ]
    },
    {
     "name": "stderr",
     "output_type": "stream",
     "text": [
      "Epoch 9/50: 100%|██████████████████████████████████████████████████████████| 26/26 [00:03<00:00,  6.96it/s, Loss=0.376]\n"
     ]
    },
    {
     "name": "stdout",
     "output_type": "stream",
     "text": [
      "Epoch [9/50], Loss: 0.3761, Train Accuracy: 85.46%, Validation Accuracy: 83.17%\n"
     ]
    },
    {
     "name": "stderr",
     "output_type": "stream",
     "text": [
      "Epoch 10/50: 100%|██████████████████████████████████████████████████████████| 26/26 [00:03<00:00,  6.88it/s, Loss=0.34]\n"
     ]
    },
    {
     "name": "stdout",
     "output_type": "stream",
     "text": [
      "Epoch [10/50], Loss: 0.3396, Train Accuracy: 87.48%, Validation Accuracy: 82.44%\n"
     ]
    },
    {
     "name": "stderr",
     "output_type": "stream",
     "text": [
      "Epoch 11/50: 100%|█████████████████████████████████████████████████████████| 26/26 [00:03<00:00,  6.72it/s, Loss=0.345]\n"
     ]
    },
    {
     "name": "stdout",
     "output_type": "stream",
     "text": [
      "Epoch [11/50], Loss: 0.3452, Train Accuracy: 87.11%, Validation Accuracy: 82.44%\n",
      "Early stopping\n",
      "\n",
      "Run 2/5\n"
     ]
    },
    {
     "name": "stderr",
     "output_type": "stream",
     "text": [
      "Epoch 1/50: 100%|██████████████████████████████████████████████████████████| 26/26 [00:03<00:00,  6.90it/s, Loss=0.615]\n"
     ]
    },
    {
     "name": "stdout",
     "output_type": "stream",
     "text": [
      "Epoch [1/50], Loss: 0.6149, Train Accuracy: 51.86%, Validation Accuracy: 55.12%\n"
     ]
    },
    {
     "name": "stderr",
     "output_type": "stream",
     "text": [
      "Epoch 2/50: 100%|██████████████████████████████████████████████████████████| 26/26 [00:03<00:00,  6.85it/s, Loss=0.514]\n"
     ]
    },
    {
     "name": "stdout",
     "output_type": "stream",
     "text": [
      "Epoch [2/50], Loss: 0.5145, Train Accuracy: 69.52%, Validation Accuracy: 66.83%\n"
     ]
    },
    {
     "name": "stderr",
     "output_type": "stream",
     "text": [
      "Epoch 3/50: 100%|██████████████████████████████████████████████████████████| 26/26 [00:03<00:00,  6.92it/s, Loss=0.464]\n"
     ]
    },
    {
     "name": "stdout",
     "output_type": "stream",
     "text": [
      "Epoch [3/50], Loss: 0.4641, Train Accuracy: 81.67%, Validation Accuracy: 76.83%\n"
     ]
    },
    {
     "name": "stderr",
     "output_type": "stream",
     "text": [
      "Epoch 4/50: 100%|██████████████████████████████████████████████████████████| 26/26 [00:03<00:00,  6.88it/s, Loss=0.433]\n"
     ]
    },
    {
     "name": "stdout",
     "output_type": "stream",
     "text": [
      "Epoch [4/50], Loss: 0.4329, Train Accuracy: 79.90%, Validation Accuracy: 74.63%\n"
     ]
    },
    {
     "name": "stderr",
     "output_type": "stream",
     "text": [
      "Epoch 5/50: 100%|██████████████████████████████████████████████████████████| 26/26 [00:03<00:00,  6.93it/s, Loss=0.423]\n"
     ]
    },
    {
     "name": "stdout",
     "output_type": "stream",
     "text": [
      "Epoch [5/50], Loss: 0.4227, Train Accuracy: 83.02%, Validation Accuracy: 79.51%\n"
     ]
    },
    {
     "name": "stderr",
     "output_type": "stream",
     "text": [
      "Epoch 6/50: 100%|██████████████████████████████████████████████████████████| 26/26 [00:03<00:00,  6.86it/s, Loss=0.393]\n"
     ]
    },
    {
     "name": "stdout",
     "output_type": "stream",
     "text": [
      "Epoch [6/50], Loss: 0.3934, Train Accuracy: 81.37%, Validation Accuracy: 76.83%\n"
     ]
    },
    {
     "name": "stderr",
     "output_type": "stream",
     "text": [
      "Epoch 7/50: 100%|██████████████████████████████████████████████████████████| 26/26 [00:03<00:00,  6.85it/s, Loss=0.377]\n"
     ]
    },
    {
     "name": "stdout",
     "output_type": "stream",
     "text": [
      "Epoch [7/50], Loss: 0.3772, Train Accuracy: 85.46%, Validation Accuracy: 77.80%\n"
     ]
    },
    {
     "name": "stderr",
     "output_type": "stream",
     "text": [
      "Epoch 8/50: 100%|██████████████████████████████████████████████████████████| 26/26 [00:03<00:00,  6.90it/s, Loss=0.351]\n"
     ]
    },
    {
     "name": "stdout",
     "output_type": "stream",
     "text": [
      "Epoch [8/50], Loss: 0.3514, Train Accuracy: 85.22%, Validation Accuracy: 81.95%\n"
     ]
    },
    {
     "name": "stderr",
     "output_type": "stream",
     "text": [
      "Epoch 9/50: 100%|██████████████████████████████████████████████████████████| 26/26 [00:03<00:00,  6.85it/s, Loss=0.341]\n"
     ]
    },
    {
     "name": "stdout",
     "output_type": "stream",
     "text": [
      "Epoch [9/50], Loss: 0.3411, Train Accuracy: 87.11%, Validation Accuracy: 79.76%\n"
     ]
    },
    {
     "name": "stderr",
     "output_type": "stream",
     "text": [
      "Epoch 10/50: 100%|█████████████████████████████████████████████████████████| 26/26 [00:03<00:00,  6.89it/s, Loss=0.325]\n"
     ]
    },
    {
     "name": "stdout",
     "output_type": "stream",
     "text": [
      "Epoch [10/50], Loss: 0.3250, Train Accuracy: 90.23%, Validation Accuracy: 79.51%\n"
     ]
    },
    {
     "name": "stderr",
     "output_type": "stream",
     "text": [
      "Epoch 11/50: 100%|█████████████████████████████████████████████████████████| 26/26 [00:03<00:00,  6.76it/s, Loss=0.303]\n"
     ]
    },
    {
     "name": "stdout",
     "output_type": "stream",
     "text": [
      "Epoch [11/50], Loss: 0.3027, Train Accuracy: 89.68%, Validation Accuracy: 81.95%\n",
      "Early stopping\n",
      "\n",
      "Run 3/5\n"
     ]
    },
    {
     "name": "stderr",
     "output_type": "stream",
     "text": [
      "Epoch 1/50: 100%|██████████████████████████████████████████████████████████| 26/26 [00:03<00:00,  7.02it/s, Loss=0.658]\n"
     ]
    },
    {
     "name": "stdout",
     "output_type": "stream",
     "text": [
      "Epoch [1/50], Loss: 0.6577, Train Accuracy: 53.57%, Validation Accuracy: 57.07%\n"
     ]
    },
    {
     "name": "stderr",
     "output_type": "stream",
     "text": [
      "Epoch 2/50: 100%|██████████████████████████████████████████████████████████| 26/26 [00:03<00:00,  6.94it/s, Loss=0.532]\n"
     ]
    },
    {
     "name": "stdout",
     "output_type": "stream",
     "text": [
      "Epoch [2/50], Loss: 0.5322, Train Accuracy: 76.42%, Validation Accuracy: 78.54%\n"
     ]
    },
    {
     "name": "stderr",
     "output_type": "stream",
     "text": [
      "Epoch 3/50: 100%|███████████████████████████████████████████████████████████| 26/26 [00:03<00:00,  6.97it/s, Loss=0.49]\n"
     ]
    },
    {
     "name": "stdout",
     "output_type": "stream",
     "text": [
      "Epoch [3/50], Loss: 0.4903, Train Accuracy: 80.09%, Validation Accuracy: 81.46%\n"
     ]
    },
    {
     "name": "stderr",
     "output_type": "stream",
     "text": [
      "Epoch 4/50: 100%|██████████████████████████████████████████████████████████| 26/26 [00:03<00:00,  6.98it/s, Loss=0.465]\n"
     ]
    },
    {
     "name": "stdout",
     "output_type": "stream",
     "text": [
      "Epoch [4/50], Loss: 0.4648, Train Accuracy: 80.51%, Validation Accuracy: 79.02%\n"
     ]
    },
    {
     "name": "stderr",
     "output_type": "stream",
     "text": [
      "Epoch 5/50: 100%|██████████████████████████████████████████████████████████| 26/26 [00:03<00:00,  7.06it/s, Loss=0.446]\n"
     ]
    },
    {
     "name": "stdout",
     "output_type": "stream",
     "text": [
      "Epoch [5/50], Loss: 0.4465, Train Accuracy: 75.93%, Validation Accuracy: 78.78%\n"
     ]
    },
    {
     "name": "stderr",
     "output_type": "stream",
     "text": [
      "Epoch 6/50: 100%|██████████████████████████████████████████████████████████| 26/26 [00:03<00:00,  6.89it/s, Loss=0.447]\n"
     ]
    },
    {
     "name": "stdout",
     "output_type": "stream",
     "text": [
      "Epoch [6/50], Loss: 0.4466, Train Accuracy: 82.16%, Validation Accuracy: 80.49%\n"
     ]
    },
    {
     "name": "stderr",
     "output_type": "stream",
     "text": [
      "Epoch 7/50: 100%|██████████████████████████████████████████████████████████| 26/26 [00:03<00:00,  6.94it/s, Loss=0.413]\n"
     ]
    },
    {
     "name": "stdout",
     "output_type": "stream",
     "text": [
      "Epoch [7/50], Loss: 0.4125, Train Accuracy: 81.98%, Validation Accuracy: 80.24%\n"
     ]
    },
    {
     "name": "stderr",
     "output_type": "stream",
     "text": [
      "Epoch 8/50: 100%|██████████████████████████████████████████████████████████| 26/26 [00:03<00:00,  6.87it/s, Loss=0.397]\n"
     ]
    },
    {
     "name": "stdout",
     "output_type": "stream",
     "text": [
      "Epoch [8/50], Loss: 0.3972, Train Accuracy: 84.91%, Validation Accuracy: 81.46%\n"
     ]
    },
    {
     "name": "stderr",
     "output_type": "stream",
     "text": [
      "Epoch 9/50: 100%|██████████████████████████████████████████████████████████| 26/26 [00:03<00:00,  6.98it/s, Loss=0.378]\n"
     ]
    },
    {
     "name": "stdout",
     "output_type": "stream",
     "text": [
      "Epoch [9/50], Loss: 0.3778, Train Accuracy: 83.63%, Validation Accuracy: 79.51%\n"
     ]
    },
    {
     "name": "stderr",
     "output_type": "stream",
     "text": [
      "Epoch 10/50: 100%|█████████████████████████████████████████████████████████| 26/26 [00:03<00:00,  6.88it/s, Loss=0.362]\n"
     ]
    },
    {
     "name": "stdout",
     "output_type": "stream",
     "text": [
      "Epoch [10/50], Loss: 0.3617, Train Accuracy: 85.34%, Validation Accuracy: 81.95%\n"
     ]
    },
    {
     "name": "stderr",
     "output_type": "stream",
     "text": [
      "Epoch 11/50: 100%|█████████████████████████████████████████████████████████| 26/26 [00:03<00:00,  6.95it/s, Loss=0.347]\n"
     ]
    },
    {
     "name": "stdout",
     "output_type": "stream",
     "text": [
      "Epoch [11/50], Loss: 0.3469, Train Accuracy: 88.15%, Validation Accuracy: 83.41%\n",
      "Early stopping\n",
      "\n",
      "Run 4/5\n"
     ]
    },
    {
     "name": "stderr",
     "output_type": "stream",
     "text": [
      "Epoch 1/50: 100%|██████████████████████████████████████████████████████████| 26/26 [00:03<00:00,  6.89it/s, Loss=0.627]\n"
     ]
    },
    {
     "name": "stdout",
     "output_type": "stream",
     "text": [
      "Epoch [1/50], Loss: 0.6269, Train Accuracy: 73.55%, Validation Accuracy: 71.71%\n"
     ]
    },
    {
     "name": "stderr",
     "output_type": "stream",
     "text": [
      "Epoch 2/50: 100%|██████████████████████████████████████████████████████████| 26/26 [00:03<00:00,  6.84it/s, Loss=0.539]\n"
     ]
    },
    {
     "name": "stdout",
     "output_type": "stream",
     "text": [
      "Epoch [2/50], Loss: 0.5390, Train Accuracy: 77.64%, Validation Accuracy: 76.59%\n"
     ]
    },
    {
     "name": "stderr",
     "output_type": "stream",
     "text": [
      "Epoch 3/50: 100%|██████████████████████████████████████████████████████████| 26/26 [00:03<00:00,  6.83it/s, Loss=0.483]\n"
     ]
    },
    {
     "name": "stdout",
     "output_type": "stream",
     "text": [
      "Epoch [3/50], Loss: 0.4828, Train Accuracy: 80.76%, Validation Accuracy: 80.24%\n"
     ]
    },
    {
     "name": "stderr",
     "output_type": "stream",
     "text": [
      "Epoch 4/50: 100%|██████████████████████████████████████████████████████████| 26/26 [00:03<00:00,  6.89it/s, Loss=0.456]\n"
     ]
    },
    {
     "name": "stdout",
     "output_type": "stream",
     "text": [
      "Epoch [4/50], Loss: 0.4564, Train Accuracy: 82.71%, Validation Accuracy: 81.22%\n"
     ]
    },
    {
     "name": "stderr",
     "output_type": "stream",
     "text": [
      "Epoch 5/50: 100%|██████████████████████████████████████████████████████████| 26/26 [00:03<00:00,  6.99it/s, Loss=0.424]\n"
     ]
    },
    {
     "name": "stdout",
     "output_type": "stream",
     "text": [
      "Epoch [5/50], Loss: 0.4243, Train Accuracy: 82.59%, Validation Accuracy: 81.46%\n"
     ]
    },
    {
     "name": "stderr",
     "output_type": "stream",
     "text": [
      "Epoch 6/50: 100%|██████████████████████████████████████████████████████████| 26/26 [00:03<00:00,  6.88it/s, Loss=0.404]\n"
     ]
    },
    {
     "name": "stdout",
     "output_type": "stream",
     "text": [
      "Epoch [6/50], Loss: 0.4039, Train Accuracy: 85.34%, Validation Accuracy: 81.22%\n"
     ]
    },
    {
     "name": "stderr",
     "output_type": "stream",
     "text": [
      "Epoch 7/50: 100%|██████████████████████████████████████████████████████████| 26/26 [00:03<00:00,  7.21it/s, Loss=0.388]\n"
     ]
    },
    {
     "name": "stdout",
     "output_type": "stream",
     "text": [
      "Epoch [7/50], Loss: 0.3878, Train Accuracy: 76.73%, Validation Accuracy: 73.66%\n"
     ]
    },
    {
     "name": "stderr",
     "output_type": "stream",
     "text": [
      "Epoch 8/50: 100%|██████████████████████████████████████████████████████████| 26/26 [00:03<00:00,  7.02it/s, Loss=0.375]\n"
     ]
    },
    {
     "name": "stdout",
     "output_type": "stream",
     "text": [
      "Epoch [8/50], Loss: 0.3749, Train Accuracy: 85.40%, Validation Accuracy: 81.46%\n"
     ]
    },
    {
     "name": "stderr",
     "output_type": "stream",
     "text": [
      "Epoch 9/50: 100%|██████████████████████████████████████████████████████████| 26/26 [00:03<00:00,  6.88it/s, Loss=0.358]\n"
     ]
    },
    {
     "name": "stdout",
     "output_type": "stream",
     "text": [
      "Epoch [9/50], Loss: 0.3575, Train Accuracy: 86.44%, Validation Accuracy: 81.46%\n"
     ]
    },
    {
     "name": "stderr",
     "output_type": "stream",
     "text": [
      "Epoch 10/50: 100%|█████████████████████████████████████████████████████████| 26/26 [00:03<00:00,  6.85it/s, Loss=0.349]\n"
     ]
    },
    {
     "name": "stdout",
     "output_type": "stream",
     "text": [
      "Epoch [10/50], Loss: 0.3487, Train Accuracy: 86.07%, Validation Accuracy: 82.20%\n"
     ]
    },
    {
     "name": "stderr",
     "output_type": "stream",
     "text": [
      "Epoch 11/50: 100%|█████████████████████████████████████████████████████████| 26/26 [00:03<00:00,  6.94it/s, Loss=0.332]\n"
     ]
    },
    {
     "name": "stdout",
     "output_type": "stream",
     "text": [
      "Epoch [11/50], Loss: 0.3320, Train Accuracy: 88.88%, Validation Accuracy: 83.66%\n",
      "Early stopping\n",
      "\n",
      "Run 5/5\n"
     ]
    },
    {
     "name": "stderr",
     "output_type": "stream",
     "text": [
      "Epoch 1/50: 100%|██████████████████████████████████████████████████████████| 26/26 [00:03<00:00,  7.07it/s, Loss=0.657]\n"
     ]
    },
    {
     "name": "stdout",
     "output_type": "stream",
     "text": [
      "Epoch [1/50], Loss: 0.6566, Train Accuracy: 58.28%, Validation Accuracy: 52.93%\n"
     ]
    },
    {
     "name": "stderr",
     "output_type": "stream",
     "text": [
      "Epoch 2/50: 100%|██████████████████████████████████████████████████████████| 26/26 [00:03<00:00,  6.95it/s, Loss=0.534]\n"
     ]
    },
    {
     "name": "stdout",
     "output_type": "stream",
     "text": [
      "Epoch [2/50], Loss: 0.5338, Train Accuracy: 77.89%, Validation Accuracy: 76.10%\n"
     ]
    },
    {
     "name": "stderr",
     "output_type": "stream",
     "text": [
      "Epoch 3/50: 100%|██████████████████████████████████████████████████████████| 26/26 [00:03<00:00,  7.04it/s, Loss=0.495]\n"
     ]
    },
    {
     "name": "stdout",
     "output_type": "stream",
     "text": [
      "Epoch [3/50], Loss: 0.4946, Train Accuracy: 77.40%, Validation Accuracy: 74.39%\n"
     ]
    },
    {
     "name": "stderr",
     "output_type": "stream",
     "text": [
      "Epoch 4/50: 100%|██████████████████████████████████████████████████████████| 26/26 [00:03<00:00,  6.93it/s, Loss=0.462]\n"
     ]
    },
    {
     "name": "stdout",
     "output_type": "stream",
     "text": [
      "Epoch [4/50], Loss: 0.4622, Train Accuracy: 81.49%, Validation Accuracy: 78.54%\n"
     ]
    },
    {
     "name": "stderr",
     "output_type": "stream",
     "text": [
      "Epoch 5/50: 100%|██████████████████████████████████████████████████████████| 26/26 [00:03<00:00,  7.02it/s, Loss=0.439]\n"
     ]
    },
    {
     "name": "stdout",
     "output_type": "stream",
     "text": [
      "Epoch [5/50], Loss: 0.4388, Train Accuracy: 81.73%, Validation Accuracy: 78.78%\n"
     ]
    },
    {
     "name": "stderr",
     "output_type": "stream",
     "text": [
      "Epoch 6/50: 100%|██████████████████████████████████████████████████████████| 26/26 [00:03<00:00,  6.98it/s, Loss=0.424]\n"
     ]
    },
    {
     "name": "stdout",
     "output_type": "stream",
     "text": [
      "Epoch [6/50], Loss: 0.4244, Train Accuracy: 83.63%, Validation Accuracy: 78.29%\n"
     ]
    },
    {
     "name": "stderr",
     "output_type": "stream",
     "text": [
      "Epoch 7/50: 100%|██████████████████████████████████████████████████████████| 26/26 [00:03<00:00,  7.09it/s, Loss=0.407]\n"
     ]
    },
    {
     "name": "stdout",
     "output_type": "stream",
     "text": [
      "Epoch [7/50], Loss: 0.4072, Train Accuracy: 83.51%, Validation Accuracy: 80.00%\n"
     ]
    },
    {
     "name": "stderr",
     "output_type": "stream",
     "text": [
      "Epoch 8/50: 100%|██████████████████████████████████████████████████████████| 26/26 [00:03<00:00,  7.06it/s, Loss=0.393]\n"
     ]
    },
    {
     "name": "stdout",
     "output_type": "stream",
     "text": [
      "Epoch [8/50], Loss: 0.3932, Train Accuracy: 74.71%, Validation Accuracy: 72.68%\n"
     ]
    },
    {
     "name": "stderr",
     "output_type": "stream",
     "text": [
      "Epoch 9/50: 100%|██████████████████████████████████████████████████████████| 26/26 [00:03<00:00,  6.97it/s, Loss=0.382]\n"
     ]
    },
    {
     "name": "stdout",
     "output_type": "stream",
     "text": [
      "Epoch [9/50], Loss: 0.3817, Train Accuracy: 85.16%, Validation Accuracy: 80.98%\n"
     ]
    },
    {
     "name": "stderr",
     "output_type": "stream",
     "text": [
      "Epoch 10/50: 100%|█████████████████████████████████████████████████████████| 26/26 [00:03<00:00,  6.96it/s, Loss=0.362]\n"
     ]
    },
    {
     "name": "stdout",
     "output_type": "stream",
     "text": [
      "Epoch [10/50], Loss: 0.3617, Train Accuracy: 83.45%, Validation Accuracy: 79.27%\n"
     ]
    },
    {
     "name": "stderr",
     "output_type": "stream",
     "text": [
      "Epoch 11/50: 100%|█████████████████████████████████████████████████████████| 26/26 [00:03<00:00,  6.99it/s, Loss=0.343]\n"
     ]
    },
    {
     "name": "stdout",
     "output_type": "stream",
     "text": [
      "Epoch [11/50], Loss: 0.3429, Train Accuracy: 89.68%, Validation Accuracy: 83.41%\n",
      "Early stopping\n",
      "\n",
      "Running experiment with random_affine\n",
      "\n",
      "Run 1/5\n"
     ]
    },
    {
     "name": "stderr",
     "output_type": "stream",
     "text": [
      "Epoch 1/50: 100%|██████████████████████████████████████████████████████████| 26/26 [00:03<00:00,  6.74it/s, Loss=0.681]\n"
     ]
    },
    {
     "name": "stdout",
     "output_type": "stream",
     "text": [
      "Epoch [1/50], Loss: 0.6812, Train Accuracy: 69.09%, Validation Accuracy: 73.66%\n"
     ]
    },
    {
     "name": "stderr",
     "output_type": "stream",
     "text": [
      "Epoch 2/50: 100%|██████████████████████████████████████████████████████████| 26/26 [00:03<00:00,  6.70it/s, Loss=0.588]\n"
     ]
    },
    {
     "name": "stdout",
     "output_type": "stream",
     "text": [
      "Epoch [2/50], Loss: 0.5881, Train Accuracy: 72.94%, Validation Accuracy: 74.39%\n"
     ]
    },
    {
     "name": "stderr",
     "output_type": "stream",
     "text": [
      "Epoch 3/50: 100%|██████████████████████████████████████████████████████████| 26/26 [00:03<00:00,  6.80it/s, Loss=0.549]\n"
     ]
    },
    {
     "name": "stdout",
     "output_type": "stream",
     "text": [
      "Epoch [3/50], Loss: 0.5488, Train Accuracy: 76.24%, Validation Accuracy: 77.80%\n"
     ]
    },
    {
     "name": "stderr",
     "output_type": "stream",
     "text": [
      "Epoch 4/50: 100%|██████████████████████████████████████████████████████████| 26/26 [00:03<00:00,  6.60it/s, Loss=0.522]\n"
     ]
    },
    {
     "name": "stdout",
     "output_type": "stream",
     "text": [
      "Epoch [4/50], Loss: 0.5221, Train Accuracy: 73.43%, Validation Accuracy: 75.12%\n"
     ]
    },
    {
     "name": "stderr",
     "output_type": "stream",
     "text": [
      "Epoch 5/50: 100%|██████████████████████████████████████████████████████████| 26/26 [00:03<00:00,  6.71it/s, Loss=0.502]\n"
     ]
    },
    {
     "name": "stdout",
     "output_type": "stream",
     "text": [
      "Epoch [5/50], Loss: 0.5021, Train Accuracy: 79.29%, Validation Accuracy: 80.98%\n"
     ]
    },
    {
     "name": "stderr",
     "output_type": "stream",
     "text": [
      "Epoch 6/50: 100%|██████████████████████████████████████████████████████████| 26/26 [00:03<00:00,  6.75it/s, Loss=0.493]\n"
     ]
    },
    {
     "name": "stdout",
     "output_type": "stream",
     "text": [
      "Epoch [6/50], Loss: 0.4926, Train Accuracy: 78.68%, Validation Accuracy: 78.54%\n"
     ]
    },
    {
     "name": "stderr",
     "output_type": "stream",
     "text": [
      "Epoch 7/50: 100%|██████████████████████████████████████████████████████████| 26/26 [00:03<00:00,  6.77it/s, Loss=0.482]\n"
     ]
    },
    {
     "name": "stdout",
     "output_type": "stream",
     "text": [
      "Epoch [7/50], Loss: 0.4818, Train Accuracy: 79.11%, Validation Accuracy: 80.00%\n"
     ]
    },
    {
     "name": "stderr",
     "output_type": "stream",
     "text": [
      "Epoch 8/50: 100%|██████████████████████████████████████████████████████████| 26/26 [00:03<00:00,  6.72it/s, Loss=0.475]\n"
     ]
    },
    {
     "name": "stdout",
     "output_type": "stream",
     "text": [
      "Epoch [8/50], Loss: 0.4747, Train Accuracy: 78.80%, Validation Accuracy: 81.71%\n"
     ]
    },
    {
     "name": "stderr",
     "output_type": "stream",
     "text": [
      "Epoch 9/50: 100%|██████████████████████████████████████████████████████████| 26/26 [00:03<00:00,  6.81it/s, Loss=0.463]\n"
     ]
    },
    {
     "name": "stdout",
     "output_type": "stream",
     "text": [
      "Epoch [9/50], Loss: 0.4634, Train Accuracy: 81.67%, Validation Accuracy: 83.66%\n"
     ]
    },
    {
     "name": "stderr",
     "output_type": "stream",
     "text": [
      "Epoch 10/50: 100%|█████████████████████████████████████████████████████████| 26/26 [00:03<00:00,  6.62it/s, Loss=0.456]\n"
     ]
    },
    {
     "name": "stdout",
     "output_type": "stream",
     "text": [
      "Epoch [10/50], Loss: 0.4558, Train Accuracy: 75.99%, Validation Accuracy: 76.59%\n"
     ]
    },
    {
     "name": "stderr",
     "output_type": "stream",
     "text": [
      "Epoch 11/50: 100%|█████████████████████████████████████████████████████████| 26/26 [00:03<00:00,  6.84it/s, Loss=0.434]\n"
     ]
    },
    {
     "name": "stdout",
     "output_type": "stream",
     "text": [
      "Epoch [11/50], Loss: 0.4337, Train Accuracy: 78.13%, Validation Accuracy: 78.05%\n",
      "Early stopping\n",
      "\n",
      "Run 2/5\n"
     ]
    },
    {
     "name": "stderr",
     "output_type": "stream",
     "text": [
      "Epoch 1/50: 100%|██████████████████████████████████████████████████████████| 26/26 [00:03<00:00,  6.92it/s, Loss=0.607]\n"
     ]
    },
    {
     "name": "stdout",
     "output_type": "stream",
     "text": [
      "Epoch [1/50], Loss: 0.6069, Train Accuracy: 59.56%, Validation Accuracy: 59.76%\n"
     ]
    },
    {
     "name": "stderr",
     "output_type": "stream",
     "text": [
      "Epoch 2/50: 100%|██████████████████████████████████████████████████████████| 26/26 [00:03<00:00,  6.79it/s, Loss=0.551]\n"
     ]
    },
    {
     "name": "stdout",
     "output_type": "stream",
     "text": [
      "Epoch [2/50], Loss: 0.5508, Train Accuracy: 74.83%, Validation Accuracy: 73.66%\n"
     ]
    },
    {
     "name": "stderr",
     "output_type": "stream",
     "text": [
      "Epoch 3/50: 100%|██████████████████████████████████████████████████████████| 26/26 [00:03<00:00,  6.80it/s, Loss=0.513]\n"
     ]
    },
    {
     "name": "stdout",
     "output_type": "stream",
     "text": [
      "Epoch [3/50], Loss: 0.5129, Train Accuracy: 78.19%, Validation Accuracy: 76.83%\n"
     ]
    },
    {
     "name": "stderr",
     "output_type": "stream",
     "text": [
      "Epoch 4/50: 100%|██████████████████████████████████████████████████████████| 26/26 [00:03<00:00,  6.65it/s, Loss=0.489]\n"
     ]
    },
    {
     "name": "stdout",
     "output_type": "stream",
     "text": [
      "Epoch [4/50], Loss: 0.4888, Train Accuracy: 80.70%, Validation Accuracy: 76.34%\n"
     ]
    },
    {
     "name": "stderr",
     "output_type": "stream",
     "text": [
      "Epoch 5/50: 100%|██████████████████████████████████████████████████████████| 26/26 [00:03<00:00,  6.57it/s, Loss=0.475]\n"
     ]
    },
    {
     "name": "stdout",
     "output_type": "stream",
     "text": [
      "Epoch [5/50], Loss: 0.4747, Train Accuracy: 76.54%, Validation Accuracy: 74.63%\n"
     ]
    },
    {
     "name": "stderr",
     "output_type": "stream",
     "text": [
      "Epoch 6/50: 100%|██████████████████████████████████████████████████████████| 26/26 [00:03<00:00,  6.69it/s, Loss=0.454]\n"
     ]
    },
    {
     "name": "stdout",
     "output_type": "stream",
     "text": [
      "Epoch [6/50], Loss: 0.4536, Train Accuracy: 81.43%, Validation Accuracy: 72.93%\n"
     ]
    },
    {
     "name": "stderr",
     "output_type": "stream",
     "text": [
      "Epoch 7/50: 100%|██████████████████████████████████████████████████████████| 26/26 [00:03<00:00,  6.80it/s, Loss=0.453]\n"
     ]
    },
    {
     "name": "stdout",
     "output_type": "stream",
     "text": [
      "Epoch [7/50], Loss: 0.4531, Train Accuracy: 80.88%, Validation Accuracy: 79.76%\n"
     ]
    },
    {
     "name": "stderr",
     "output_type": "stream",
     "text": [
      "Epoch 8/50: 100%|██████████████████████████████████████████████████████████| 26/26 [00:03<00:00,  6.55it/s, Loss=0.428]\n"
     ]
    },
    {
     "name": "stdout",
     "output_type": "stream",
     "text": [
      "Epoch [8/50], Loss: 0.4282, Train Accuracy: 82.47%, Validation Accuracy: 79.27%\n"
     ]
    },
    {
     "name": "stderr",
     "output_type": "stream",
     "text": [
      "Epoch 9/50: 100%|██████████████████████████████████████████████████████████| 26/26 [00:03<00:00,  6.62it/s, Loss=0.427]\n"
     ]
    },
    {
     "name": "stdout",
     "output_type": "stream",
     "text": [
      "Epoch [9/50], Loss: 0.4275, Train Accuracy: 82.10%, Validation Accuracy: 80.49%\n"
     ]
    },
    {
     "name": "stderr",
     "output_type": "stream",
     "text": [
      "Epoch 10/50: 100%|█████████████████████████████████████████████████████████| 26/26 [00:03<00:00,  6.67it/s, Loss=0.419]\n"
     ]
    },
    {
     "name": "stdout",
     "output_type": "stream",
     "text": [
      "Epoch [10/50], Loss: 0.4191, Train Accuracy: 81.37%, Validation Accuracy: 77.80%\n"
     ]
    },
    {
     "name": "stderr",
     "output_type": "stream",
     "text": [
      "Epoch 11/50: 100%|█████████████████████████████████████████████████████████| 26/26 [00:03<00:00,  6.67it/s, Loss=0.419]\n"
     ]
    },
    {
     "name": "stdout",
     "output_type": "stream",
     "text": [
      "Epoch [11/50], Loss: 0.4193, Train Accuracy: 80.39%, Validation Accuracy: 76.34%\n",
      "Early stopping\n",
      "\n",
      "Run 3/5\n"
     ]
    },
    {
     "name": "stderr",
     "output_type": "stream",
     "text": [
      "Epoch 1/50: 100%|██████████████████████████████████████████████████████████| 26/26 [00:03<00:00,  6.82it/s, Loss=0.685]\n"
     ]
    },
    {
     "name": "stdout",
     "output_type": "stream",
     "text": [
      "Epoch [1/50], Loss: 0.6852, Train Accuracy: 54.73%, Validation Accuracy: 53.17%\n"
     ]
    },
    {
     "name": "stderr",
     "output_type": "stream",
     "text": [
      "Epoch 2/50: 100%|██████████████████████████████████████████████████████████| 26/26 [00:03<00:00,  6.68it/s, Loss=0.592]\n"
     ]
    },
    {
     "name": "stdout",
     "output_type": "stream",
     "text": [
      "Epoch [2/50], Loss: 0.5922, Train Accuracy: 69.82%, Validation Accuracy: 64.88%\n"
     ]
    },
    {
     "name": "stderr",
     "output_type": "stream",
     "text": [
      "Epoch 3/50: 100%|██████████████████████████████████████████████████████████| 26/26 [00:03<00:00,  6.76it/s, Loss=0.564]\n"
     ]
    },
    {
     "name": "stdout",
     "output_type": "stream",
     "text": [
      "Epoch [3/50], Loss: 0.5642, Train Accuracy: 76.42%, Validation Accuracy: 75.12%\n"
     ]
    },
    {
     "name": "stderr",
     "output_type": "stream",
     "text": [
      "Epoch 4/50: 100%|██████████████████████████████████████████████████████████| 26/26 [00:03<00:00,  6.72it/s, Loss=0.525]\n"
     ]
    },
    {
     "name": "stdout",
     "output_type": "stream",
     "text": [
      "Epoch [4/50], Loss: 0.5249, Train Accuracy: 70.49%, Validation Accuracy: 68.05%\n"
     ]
    },
    {
     "name": "stderr",
     "output_type": "stream",
     "text": [
      "Epoch 5/50: 100%|██████████████████████████████████████████████████████████| 26/26 [00:03<00:00,  6.83it/s, Loss=0.517]\n"
     ]
    },
    {
     "name": "stdout",
     "output_type": "stream",
     "text": [
      "Epoch [5/50], Loss: 0.5167, Train Accuracy: 76.85%, Validation Accuracy: 77.80%\n"
     ]
    },
    {
     "name": "stderr",
     "output_type": "stream",
     "text": [
      "Epoch 6/50: 100%|██████████████████████████████████████████████████████████| 26/26 [00:03<00:00,  6.86it/s, Loss=0.488]\n"
     ]
    },
    {
     "name": "stdout",
     "output_type": "stream",
     "text": [
      "Epoch [6/50], Loss: 0.4875, Train Accuracy: 80.15%, Validation Accuracy: 76.59%\n"
     ]
    },
    {
     "name": "stderr",
     "output_type": "stream",
     "text": [
      "Epoch 7/50: 100%|██████████████████████████████████████████████████████████| 26/26 [00:03<00:00,  6.67it/s, Loss=0.483]\n"
     ]
    },
    {
     "name": "stdout",
     "output_type": "stream",
     "text": [
      "Epoch [7/50], Loss: 0.4831, Train Accuracy: 77.83%, Validation Accuracy: 79.51%\n"
     ]
    },
    {
     "name": "stderr",
     "output_type": "stream",
     "text": [
      "Epoch 8/50: 100%|██████████████████████████████████████████████████████████| 26/26 [00:03<00:00,  6.83it/s, Loss=0.479]\n"
     ]
    },
    {
     "name": "stdout",
     "output_type": "stream",
     "text": [
      "Epoch [8/50], Loss: 0.4789, Train Accuracy: 79.84%, Validation Accuracy: 77.56%\n"
     ]
    },
    {
     "name": "stderr",
     "output_type": "stream",
     "text": [
      "Epoch 9/50: 100%|██████████████████████████████████████████████████████████| 26/26 [00:03<00:00,  6.80it/s, Loss=0.469]\n"
     ]
    },
    {
     "name": "stdout",
     "output_type": "stream",
     "text": [
      "Epoch [9/50], Loss: 0.4688, Train Accuracy: 81.80%, Validation Accuracy: 79.27%\n"
     ]
    },
    {
     "name": "stderr",
     "output_type": "stream",
     "text": [
      "Epoch 10/50: 100%|█████████████████████████████████████████████████████████| 26/26 [00:03<00:00,  6.83it/s, Loss=0.441]\n"
     ]
    },
    {
     "name": "stdout",
     "output_type": "stream",
     "text": [
      "Epoch [10/50], Loss: 0.4414, Train Accuracy: 80.64%, Validation Accuracy: 79.51%\n"
     ]
    },
    {
     "name": "stderr",
     "output_type": "stream",
     "text": [
      "Epoch 11/50: 100%|██████████████████████████████████████████████████████████| 26/26 [00:03<00:00,  6.75it/s, Loss=0.46]\n"
     ]
    },
    {
     "name": "stdout",
     "output_type": "stream",
     "text": [
      "Epoch [11/50], Loss: 0.4596, Train Accuracy: 81.86%, Validation Accuracy: 79.76%\n",
      "Early stopping\n",
      "\n",
      "Run 4/5\n"
     ]
    },
    {
     "name": "stderr",
     "output_type": "stream",
     "text": [
      "Epoch 1/50: 100%|██████████████████████████████████████████████████████████| 26/26 [00:03<00:00,  6.65it/s, Loss=0.663]\n"
     ]
    },
    {
     "name": "stdout",
     "output_type": "stream",
     "text": [
      "Epoch [1/50], Loss: 0.6631, Train Accuracy: 52.78%, Validation Accuracy: 56.10%\n"
     ]
    },
    {
     "name": "stderr",
     "output_type": "stream",
     "text": [
      "Epoch 2/50: 100%|██████████████████████████████████████████████████████████| 26/26 [00:03<00:00,  6.62it/s, Loss=0.549]\n"
     ]
    },
    {
     "name": "stdout",
     "output_type": "stream",
     "text": [
      "Epoch [2/50], Loss: 0.5492, Train Accuracy: 69.03%, Validation Accuracy: 69.27%\n"
     ]
    },
    {
     "name": "stderr",
     "output_type": "stream",
     "text": [
      "Epoch 3/50: 100%|██████████████████████████████████████████████████████████| 26/26 [00:03<00:00,  6.77it/s, Loss=0.506]\n"
     ]
    },
    {
     "name": "stdout",
     "output_type": "stream",
     "text": [
      "Epoch [3/50], Loss: 0.5058, Train Accuracy: 78.01%, Validation Accuracy: 74.39%\n"
     ]
    },
    {
     "name": "stderr",
     "output_type": "stream",
     "text": [
      "Epoch 4/50: 100%|██████████████████████████████████████████████████████████| 26/26 [00:03<00:00,  6.69it/s, Loss=0.489]\n"
     ]
    },
    {
     "name": "stdout",
     "output_type": "stream",
     "text": [
      "Epoch [4/50], Loss: 0.4888, Train Accuracy: 78.50%, Validation Accuracy: 74.63%\n"
     ]
    },
    {
     "name": "stderr",
     "output_type": "stream",
     "text": [
      "Epoch 5/50: 100%|██████████████████████████████████████████████████████████| 26/26 [00:03<00:00,  6.79it/s, Loss=0.485]\n"
     ]
    },
    {
     "name": "stdout",
     "output_type": "stream",
     "text": [
      "Epoch [5/50], Loss: 0.4855, Train Accuracy: 76.48%, Validation Accuracy: 76.59%\n"
     ]
    },
    {
     "name": "stderr",
     "output_type": "stream",
     "text": [
      "Epoch 6/50: 100%|██████████████████████████████████████████████████████████| 26/26 [00:03<00:00,  6.71it/s, Loss=0.474]\n"
     ]
    },
    {
     "name": "stdout",
     "output_type": "stream",
     "text": [
      "Epoch [6/50], Loss: 0.4743, Train Accuracy: 75.87%, Validation Accuracy: 76.34%\n"
     ]
    },
    {
     "name": "stderr",
     "output_type": "stream",
     "text": [
      "Epoch 7/50: 100%|██████████████████████████████████████████████████████████| 26/26 [00:03<00:00,  6.69it/s, Loss=0.454]\n"
     ]
    },
    {
     "name": "stdout",
     "output_type": "stream",
     "text": [
      "Epoch [7/50], Loss: 0.4537, Train Accuracy: 79.90%, Validation Accuracy: 77.32%\n"
     ]
    },
    {
     "name": "stderr",
     "output_type": "stream",
     "text": [
      "Epoch 8/50: 100%|██████████████████████████████████████████████████████████| 26/26 [00:03<00:00,  6.67it/s, Loss=0.473]\n"
     ]
    },
    {
     "name": "stdout",
     "output_type": "stream",
     "text": [
      "Epoch [8/50], Loss: 0.4735, Train Accuracy: 80.51%, Validation Accuracy: 79.76%\n"
     ]
    },
    {
     "name": "stderr",
     "output_type": "stream",
     "text": [
      "Epoch 9/50: 100%|██████████████████████████████████████████████████████████| 26/26 [00:03<00:00,  6.79it/s, Loss=0.446]\n"
     ]
    },
    {
     "name": "stdout",
     "output_type": "stream",
     "text": [
      "Epoch [9/50], Loss: 0.4460, Train Accuracy: 81.92%, Validation Accuracy: 79.27%\n"
     ]
    },
    {
     "name": "stderr",
     "output_type": "stream",
     "text": [
      "Epoch 10/50: 100%|█████████████████████████████████████████████████████████| 26/26 [00:03<00:00,  6.83it/s, Loss=0.449]\n"
     ]
    },
    {
     "name": "stdout",
     "output_type": "stream",
     "text": [
      "Epoch [10/50], Loss: 0.4492, Train Accuracy: 79.90%, Validation Accuracy: 76.59%\n"
     ]
    },
    {
     "name": "stderr",
     "output_type": "stream",
     "text": [
      "Epoch 11/50: 100%|█████████████████████████████████████████████████████████| 26/26 [00:03<00:00,  6.77it/s, Loss=0.436]\n"
     ]
    },
    {
     "name": "stdout",
     "output_type": "stream",
     "text": [
      "Epoch [11/50], Loss: 0.4360, Train Accuracy: 82.90%, Validation Accuracy: 79.76%\n",
      "Early stopping\n",
      "\n",
      "Run 5/5\n"
     ]
    },
    {
     "name": "stderr",
     "output_type": "stream",
     "text": [
      "Epoch 1/50: 100%|██████████████████████████████████████████████████████████| 26/26 [00:03<00:00,  6.73it/s, Loss=0.695]\n"
     ]
    },
    {
     "name": "stdout",
     "output_type": "stream",
     "text": [
      "Epoch [1/50], Loss: 0.6951, Train Accuracy: 71.96%, Validation Accuracy: 66.34%\n"
     ]
    },
    {
     "name": "stderr",
     "output_type": "stream",
     "text": [
      "Epoch 2/50: 100%|███████████████████████████████████████████████████████████| 26/26 [00:03<00:00,  6.55it/s, Loss=0.58]\n"
     ]
    },
    {
     "name": "stdout",
     "output_type": "stream",
     "text": [
      "Epoch [2/50], Loss: 0.5800, Train Accuracy: 75.44%, Validation Accuracy: 69.02%\n"
     ]
    },
    {
     "name": "stderr",
     "output_type": "stream",
     "text": [
      "Epoch 3/50: 100%|██████████████████████████████████████████████████████████| 26/26 [00:03<00:00,  6.71it/s, Loss=0.531]\n"
     ]
    },
    {
     "name": "stdout",
     "output_type": "stream",
     "text": [
      "Epoch [3/50], Loss: 0.5310, Train Accuracy: 78.07%, Validation Accuracy: 72.93%\n"
     ]
    },
    {
     "name": "stderr",
     "output_type": "stream",
     "text": [
      "Epoch 4/50: 100%|██████████████████████████████████████████████████████████| 26/26 [00:03<00:00,  6.67it/s, Loss=0.512]\n"
     ]
    },
    {
     "name": "stdout",
     "output_type": "stream",
     "text": [
      "Epoch [4/50], Loss: 0.5122, Train Accuracy: 78.01%, Validation Accuracy: 73.17%\n"
     ]
    },
    {
     "name": "stderr",
     "output_type": "stream",
     "text": [
      "Epoch 5/50: 100%|██████████████████████████████████████████████████████████| 26/26 [00:03<00:00,  6.71it/s, Loss=0.511]\n"
     ]
    },
    {
     "name": "stdout",
     "output_type": "stream",
     "text": [
      "Epoch [5/50], Loss: 0.5111, Train Accuracy: 78.56%, Validation Accuracy: 73.66%\n"
     ]
    },
    {
     "name": "stderr",
     "output_type": "stream",
     "text": [
      "Epoch 6/50: 100%|██████████████████████████████████████████████████████████| 26/26 [00:03<00:00,  6.65it/s, Loss=0.489]\n"
     ]
    },
    {
     "name": "stdout",
     "output_type": "stream",
     "text": [
      "Epoch [6/50], Loss: 0.4888, Train Accuracy: 79.29%, Validation Accuracy: 74.63%\n"
     ]
    },
    {
     "name": "stderr",
     "output_type": "stream",
     "text": [
      "Epoch 7/50: 100%|██████████████████████████████████████████████████████████| 26/26 [00:03<00:00,  6.78it/s, Loss=0.474]\n"
     ]
    },
    {
     "name": "stdout",
     "output_type": "stream",
     "text": [
      "Epoch [7/50], Loss: 0.4744, Train Accuracy: 80.45%, Validation Accuracy: 76.10%\n"
     ]
    },
    {
     "name": "stderr",
     "output_type": "stream",
     "text": [
      "Epoch 8/50: 100%|███████████████████████████████████████████████████████████| 26/26 [00:03<00:00,  6.54it/s, Loss=0.46]\n"
     ]
    },
    {
     "name": "stdout",
     "output_type": "stream",
     "text": [
      "Epoch [8/50], Loss: 0.4595, Train Accuracy: 78.07%, Validation Accuracy: 77.32%\n"
     ]
    },
    {
     "name": "stderr",
     "output_type": "stream",
     "text": [
      "Epoch 9/50: 100%|██████████████████████████████████████████████████████████| 26/26 [00:03<00:00,  6.57it/s, Loss=0.457]\n"
     ]
    },
    {
     "name": "stdout",
     "output_type": "stream",
     "text": [
      "Epoch [9/50], Loss: 0.4570, Train Accuracy: 81.12%, Validation Accuracy: 77.56%\n"
     ]
    },
    {
     "name": "stderr",
     "output_type": "stream",
     "text": [
      "Epoch 10/50: 100%|█████████████████████████████████████████████████████████| 26/26 [00:03<00:00,  6.74it/s, Loss=0.433]\n"
     ]
    },
    {
     "name": "stdout",
     "output_type": "stream",
     "text": [
      "Epoch [10/50], Loss: 0.4331, Train Accuracy: 69.58%, Validation Accuracy: 63.90%\n"
     ]
    },
    {
     "name": "stderr",
     "output_type": "stream",
     "text": [
      "Epoch 11/50: 100%|█████████████████████████████████████████████████████████| 26/26 [00:03<00:00,  6.77it/s, Loss=0.455]\n"
     ]
    },
    {
     "name": "stdout",
     "output_type": "stream",
     "text": [
      "Epoch [11/50], Loss: 0.4551, Train Accuracy: 81.43%, Validation Accuracy: 78.29%\n"
     ]
    },
    {
     "name": "stderr",
     "output_type": "stream",
     "text": [
      "Epoch 12/50: 100%|█████████████████████████████████████████████████████████| 26/26 [00:03<00:00,  6.55it/s, Loss=0.431]\n"
     ]
    },
    {
     "name": "stdout",
     "output_type": "stream",
     "text": [
      "Epoch [12/50], Loss: 0.4313, Train Accuracy: 75.08%, Validation Accuracy: 75.61%\n"
     ]
    },
    {
     "name": "stderr",
     "output_type": "stream",
     "text": [
      "Epoch 13/50: 100%|█████████████████████████████████████████████████████████| 26/26 [00:03<00:00,  6.76it/s, Loss=0.428]\n"
     ]
    },
    {
     "name": "stdout",
     "output_type": "stream",
     "text": [
      "Epoch [13/50], Loss: 0.4280, Train Accuracy: 78.68%, Validation Accuracy: 76.10%\n"
     ]
    },
    {
     "name": "stderr",
     "output_type": "stream",
     "text": [
      "Epoch 14/50: 100%|█████████████████████████████████████████████████████████| 26/26 [00:03<00:00,  6.68it/s, Loss=0.429]\n"
     ]
    },
    {
     "name": "stdout",
     "output_type": "stream",
     "text": [
      "Epoch [14/50], Loss: 0.4286, Train Accuracy: 81.25%, Validation Accuracy: 77.32%\n"
     ]
    },
    {
     "name": "stderr",
     "output_type": "stream",
     "text": [
      "Epoch 15/50: 100%|██████████████████████████████████████████████████████████| 26/26 [00:03<00:00,  6.71it/s, Loss=0.42]\n"
     ]
    },
    {
     "name": "stdout",
     "output_type": "stream",
     "text": [
      "Epoch [15/50], Loss: 0.4198, Train Accuracy: 83.32%, Validation Accuracy: 78.78%\n"
     ]
    },
    {
     "name": "stderr",
     "output_type": "stream",
     "text": [
      "Epoch 16/50: 100%|██████████████████████████████████████████████████████████| 26/26 [00:03<00:00,  6.64it/s, Loss=0.41]\n"
     ]
    },
    {
     "name": "stdout",
     "output_type": "stream",
     "text": [
      "Epoch [16/50], Loss: 0.4101, Train Accuracy: 83.63%, Validation Accuracy: 79.02%\n"
     ]
    },
    {
     "name": "stderr",
     "output_type": "stream",
     "text": [
      "Epoch 17/50: 100%|█████████████████████████████████████████████████████████| 26/26 [00:03<00:00,  6.69it/s, Loss=0.402]\n"
     ]
    },
    {
     "name": "stdout",
     "output_type": "stream",
     "text": [
      "Epoch [17/50], Loss: 0.4016, Train Accuracy: 83.32%, Validation Accuracy: 79.51%\n"
     ]
    },
    {
     "name": "stderr",
     "output_type": "stream",
     "text": [
      "Epoch 18/50: 100%|█████████████████████████████████████████████████████████| 26/26 [00:03<00:00,  6.74it/s, Loss=0.412]\n"
     ]
    },
    {
     "name": "stdout",
     "output_type": "stream",
     "text": [
      "Epoch [18/50], Loss: 0.4119, Train Accuracy: 79.72%, Validation Accuracy: 77.07%\n"
     ]
    },
    {
     "name": "stderr",
     "output_type": "stream",
     "text": [
      "Epoch 19/50: 100%|█████████████████████████████████████████████████████████| 26/26 [00:03<00:00,  6.71it/s, Loss=0.385]\n"
     ]
    },
    {
     "name": "stdout",
     "output_type": "stream",
     "text": [
      "Epoch [19/50], Loss: 0.3848, Train Accuracy: 80.64%, Validation Accuracy: 78.54%\n"
     ]
    },
    {
     "name": "stderr",
     "output_type": "stream",
     "text": [
      "Epoch 20/50: 100%|█████████████████████████████████████████████████████████| 26/26 [00:03<00:00,  6.71it/s, Loss=0.388]\n"
     ]
    },
    {
     "name": "stdout",
     "output_type": "stream",
     "text": [
      "Epoch [20/50], Loss: 0.3883, Train Accuracy: 85.09%, Validation Accuracy: 78.29%\n",
      "Early stopping\n",
      "\n",
      "Running experiment with random_resized_crop\n",
      "\n",
      "Run 1/5\n"
     ]
    },
    {
     "name": "stderr",
     "output_type": "stream",
     "text": [
      "Epoch 1/50: 100%|██████████████████████████████████████████████████████████| 26/26 [00:04<00:00,  6.16it/s, Loss=0.616]\n"
     ]
    },
    {
     "name": "stdout",
     "output_type": "stream",
     "text": [
      "Epoch [1/50], Loss: 0.6161, Train Accuracy: 63.59%, Validation Accuracy: 59.51%\n"
     ]
    },
    {
     "name": "stderr",
     "output_type": "stream",
     "text": [
      "Epoch 2/50: 100%|██████████████████████████████████████████████████████████| 26/26 [00:04<00:00,  6.30it/s, Loss=0.505]\n"
     ]
    },
    {
     "name": "stdout",
     "output_type": "stream",
     "text": [
      "Epoch [2/50], Loss: 0.5049, Train Accuracy: 76.05%, Validation Accuracy: 75.61%\n"
     ]
    },
    {
     "name": "stderr",
     "output_type": "stream",
     "text": [
      "Epoch 3/50: 100%|██████████████████████████████████████████████████████████| 26/26 [00:04<00:00,  6.43it/s, Loss=0.488]\n"
     ]
    },
    {
     "name": "stdout",
     "output_type": "stream",
     "text": [
      "Epoch [3/50], Loss: 0.4876, Train Accuracy: 79.54%, Validation Accuracy: 77.80%\n"
     ]
    },
    {
     "name": "stderr",
     "output_type": "stream",
     "text": [
      "Epoch 4/50: 100%|██████████████████████████████████████████████████████████| 26/26 [00:04<00:00,  6.17it/s, Loss=0.461]\n"
     ]
    },
    {
     "name": "stdout",
     "output_type": "stream",
     "text": [
      "Epoch [4/50], Loss: 0.4612, Train Accuracy: 81.49%, Validation Accuracy: 78.54%\n"
     ]
    },
    {
     "name": "stderr",
     "output_type": "stream",
     "text": [
      "Epoch 5/50: 100%|██████████████████████████████████████████████████████████| 26/26 [00:04<00:00,  6.24it/s, Loss=0.426]\n"
     ]
    },
    {
     "name": "stdout",
     "output_type": "stream",
     "text": [
      "Epoch [5/50], Loss: 0.4256, Train Accuracy: 80.09%, Validation Accuracy: 77.07%\n"
     ]
    },
    {
     "name": "stderr",
     "output_type": "stream",
     "text": [
      "Epoch 6/50: 100%|██████████████████████████████████████████████████████████| 26/26 [00:04<00:00,  6.40it/s, Loss=0.417]\n"
     ]
    },
    {
     "name": "stdout",
     "output_type": "stream",
     "text": [
      "Epoch [6/50], Loss: 0.4168, Train Accuracy: 83.08%, Validation Accuracy: 80.73%\n"
     ]
    },
    {
     "name": "stderr",
     "output_type": "stream",
     "text": [
      "Epoch 7/50: 100%|██████████████████████████████████████████████████████████| 26/26 [00:04<00:00,  6.13it/s, Loss=0.398]\n"
     ]
    },
    {
     "name": "stdout",
     "output_type": "stream",
     "text": [
      "Epoch [7/50], Loss: 0.3984, Train Accuracy: 83.08%, Validation Accuracy: 79.51%\n"
     ]
    },
    {
     "name": "stderr",
     "output_type": "stream",
     "text": [
      "Epoch 8/50: 100%|██████████████████████████████████████████████████████████| 26/26 [00:04<00:00,  6.31it/s, Loss=0.393]\n"
     ]
    },
    {
     "name": "stdout",
     "output_type": "stream",
     "text": [
      "Epoch [8/50], Loss: 0.3926, Train Accuracy: 86.50%, Validation Accuracy: 82.20%\n"
     ]
    },
    {
     "name": "stderr",
     "output_type": "stream",
     "text": [
      "Epoch 9/50: 100%|██████████████████████████████████████████████████████████| 26/26 [00:04<00:00,  6.11it/s, Loss=0.385]\n"
     ]
    },
    {
     "name": "stdout",
     "output_type": "stream",
     "text": [
      "Epoch [9/50], Loss: 0.3855, Train Accuracy: 86.99%, Validation Accuracy: 80.24%\n"
     ]
    },
    {
     "name": "stderr",
     "output_type": "stream",
     "text": [
      "Epoch 10/50: 100%|█████████████████████████████████████████████████████████| 26/26 [00:04<00:00,  6.42it/s, Loss=0.347]\n"
     ]
    },
    {
     "name": "stdout",
     "output_type": "stream",
     "text": [
      "Epoch [10/50], Loss: 0.3471, Train Accuracy: 83.57%, Validation Accuracy: 80.98%\n"
     ]
    },
    {
     "name": "stderr",
     "output_type": "stream",
     "text": [
      "Epoch 11/50: 100%|█████████████████████████████████████████████████████████| 26/26 [00:04<00:00,  6.32it/s, Loss=0.338]\n"
     ]
    },
    {
     "name": "stdout",
     "output_type": "stream",
     "text": [
      "Epoch [11/50], Loss: 0.3381, Train Accuracy: 83.57%, Validation Accuracy: 78.05%\n",
      "Early stopping\n",
      "\n",
      "Run 2/5\n"
     ]
    },
    {
     "name": "stderr",
     "output_type": "stream",
     "text": [
      "Epoch 1/50: 100%|██████████████████████████████████████████████████████████| 26/26 [00:04<00:00,  6.14it/s, Loss=0.636]\n"
     ]
    },
    {
     "name": "stdout",
     "output_type": "stream",
     "text": [
      "Epoch [1/50], Loss: 0.6362, Train Accuracy: 59.44%, Validation Accuracy: 58.29%\n"
     ]
    },
    {
     "name": "stderr",
     "output_type": "stream",
     "text": [
      "Epoch 2/50: 100%|██████████████████████████████████████████████████████████| 26/26 [00:04<00:00,  6.31it/s, Loss=0.536]\n"
     ]
    },
    {
     "name": "stdout",
     "output_type": "stream",
     "text": [
      "Epoch [2/50], Loss: 0.5357, Train Accuracy: 72.94%, Validation Accuracy: 72.93%\n"
     ]
    },
    {
     "name": "stderr",
     "output_type": "stream",
     "text": [
      "Epoch 3/50: 100%|██████████████████████████████████████████████████████████| 26/26 [00:04<00:00,  6.27it/s, Loss=0.501]\n"
     ]
    },
    {
     "name": "stdout",
     "output_type": "stream",
     "text": [
      "Epoch [3/50], Loss: 0.5013, Train Accuracy: 80.21%, Validation Accuracy: 78.78%\n"
     ]
    },
    {
     "name": "stderr",
     "output_type": "stream",
     "text": [
      "Epoch 4/50: 100%|██████████████████████████████████████████████████████████| 26/26 [00:04<00:00,  6.07it/s, Loss=0.471]\n"
     ]
    },
    {
     "name": "stdout",
     "output_type": "stream",
     "text": [
      "Epoch [4/50], Loss: 0.4707, Train Accuracy: 78.07%, Validation Accuracy: 76.10%\n"
     ]
    },
    {
     "name": "stderr",
     "output_type": "stream",
     "text": [
      "Epoch 5/50: 100%|██████████████████████████████████████████████████████████| 26/26 [00:04<00:00,  6.28it/s, Loss=0.446]\n"
     ]
    },
    {
     "name": "stdout",
     "output_type": "stream",
     "text": [
      "Epoch [5/50], Loss: 0.4461, Train Accuracy: 82.96%, Validation Accuracy: 78.29%\n"
     ]
    },
    {
     "name": "stderr",
     "output_type": "stream",
     "text": [
      "Epoch 6/50: 100%|██████████████████████████████████████████████████████████| 26/26 [00:04<00:00,  6.23it/s, Loss=0.429]\n"
     ]
    },
    {
     "name": "stdout",
     "output_type": "stream",
     "text": [
      "Epoch [6/50], Loss: 0.4290, Train Accuracy: 83.45%, Validation Accuracy: 78.54%\n"
     ]
    },
    {
     "name": "stderr",
     "output_type": "stream",
     "text": [
      "Epoch 7/50: 100%|██████████████████████████████████████████████████████████| 26/26 [00:04<00:00,  6.13it/s, Loss=0.397]\n"
     ]
    },
    {
     "name": "stdout",
     "output_type": "stream",
     "text": [
      "Epoch [7/50], Loss: 0.3969, Train Accuracy: 85.03%, Validation Accuracy: 81.46%\n"
     ]
    },
    {
     "name": "stderr",
     "output_type": "stream",
     "text": [
      "Epoch 8/50: 100%|██████████████████████████████████████████████████████████| 26/26 [00:04<00:00,  6.06it/s, Loss=0.396]\n"
     ]
    },
    {
     "name": "stdout",
     "output_type": "stream",
     "text": [
      "Epoch [8/50], Loss: 0.3960, Train Accuracy: 86.56%, Validation Accuracy: 82.20%\n"
     ]
    },
    {
     "name": "stderr",
     "output_type": "stream",
     "text": [
      "Epoch 9/50: 100%|██████████████████████████████████████████████████████████| 26/26 [00:04<00:00,  6.43it/s, Loss=0.383]\n"
     ]
    },
    {
     "name": "stdout",
     "output_type": "stream",
     "text": [
      "Epoch [9/50], Loss: 0.3825, Train Accuracy: 85.28%, Validation Accuracy: 80.73%\n"
     ]
    },
    {
     "name": "stderr",
     "output_type": "stream",
     "text": [
      "Epoch 10/50: 100%|█████████████████████████████████████████████████████████| 26/26 [00:04<00:00,  6.27it/s, Loss=0.367]\n"
     ]
    },
    {
     "name": "stdout",
     "output_type": "stream",
     "text": [
      "Epoch [10/50], Loss: 0.3668, Train Accuracy: 85.95%, Validation Accuracy: 81.46%\n"
     ]
    },
    {
     "name": "stderr",
     "output_type": "stream",
     "text": [
      "Epoch 11/50: 100%|█████████████████████████████████████████████████████████| 26/26 [00:04<00:00,  6.13it/s, Loss=0.367]\n"
     ]
    },
    {
     "name": "stdout",
     "output_type": "stream",
     "text": [
      "Epoch [11/50], Loss: 0.3669, Train Accuracy: 86.50%, Validation Accuracy: 81.22%\n",
      "Early stopping\n",
      "\n",
      "Run 3/5\n"
     ]
    },
    {
     "name": "stderr",
     "output_type": "stream",
     "text": [
      "Epoch 1/50: 100%|██████████████████████████████████████████████████████████| 26/26 [00:04<00:00,  6.18it/s, Loss=0.607]\n"
     ]
    },
    {
     "name": "stdout",
     "output_type": "stream",
     "text": [
      "Epoch [1/50], Loss: 0.6070, Train Accuracy: 66.52%, Validation Accuracy: 70.98%\n"
     ]
    },
    {
     "name": "stderr",
     "output_type": "stream",
     "text": [
      "Epoch 2/50: 100%|██████████████████████████████████████████████████████████| 26/26 [00:04<00:00,  6.12it/s, Loss=0.528]\n"
     ]
    },
    {
     "name": "stdout",
     "output_type": "stream",
     "text": [
      "Epoch [2/50], Loss: 0.5276, Train Accuracy: 69.95%, Validation Accuracy: 71.95%\n"
     ]
    },
    {
     "name": "stderr",
     "output_type": "stream",
     "text": [
      "Epoch 3/50: 100%|██████████████████████████████████████████████████████████| 26/26 [00:04<00:00,  6.42it/s, Loss=0.498]\n"
     ]
    },
    {
     "name": "stdout",
     "output_type": "stream",
     "text": [
      "Epoch [3/50], Loss: 0.4981, Train Accuracy: 77.95%, Validation Accuracy: 78.78%\n"
     ]
    },
    {
     "name": "stderr",
     "output_type": "stream",
     "text": [
      "Epoch 4/50: 100%|██████████████████████████████████████████████████████████| 26/26 [00:04<00:00,  6.24it/s, Loss=0.465]\n"
     ]
    },
    {
     "name": "stdout",
     "output_type": "stream",
     "text": [
      "Epoch [4/50], Loss: 0.4648, Train Accuracy: 78.07%, Validation Accuracy: 80.98%\n"
     ]
    },
    {
     "name": "stderr",
     "output_type": "stream",
     "text": [
      "Epoch 5/50: 100%|██████████████████████████████████████████████████████████| 26/26 [00:04<00:00,  6.30it/s, Loss=0.441]\n"
     ]
    },
    {
     "name": "stdout",
     "output_type": "stream",
     "text": [
      "Epoch [5/50], Loss: 0.4410, Train Accuracy: 80.27%, Validation Accuracy: 83.41%\n"
     ]
    },
    {
     "name": "stderr",
     "output_type": "stream",
     "text": [
      "Epoch 6/50: 100%|██████████████████████████████████████████████████████████| 26/26 [00:04<00:00,  6.19it/s, Loss=0.424]\n"
     ]
    },
    {
     "name": "stdout",
     "output_type": "stream",
     "text": [
      "Epoch [6/50], Loss: 0.4236, Train Accuracy: 82.65%, Validation Accuracy: 84.39%\n"
     ]
    },
    {
     "name": "stderr",
     "output_type": "stream",
     "text": [
      "Epoch 7/50: 100%|██████████████████████████████████████████████████████████| 26/26 [00:04<00:00,  6.27it/s, Loss=0.394]\n"
     ]
    },
    {
     "name": "stdout",
     "output_type": "stream",
     "text": [
      "Epoch [7/50], Loss: 0.3937, Train Accuracy: 83.69%, Validation Accuracy: 86.10%\n"
     ]
    },
    {
     "name": "stderr",
     "output_type": "stream",
     "text": [
      "Epoch 8/50: 100%|██████████████████████████████████████████████████████████| 26/26 [00:04<00:00,  6.12it/s, Loss=0.399]\n"
     ]
    },
    {
     "name": "stdout",
     "output_type": "stream",
     "text": [
      "Epoch [8/50], Loss: 0.3986, Train Accuracy: 84.42%, Validation Accuracy: 85.85%\n"
     ]
    },
    {
     "name": "stderr",
     "output_type": "stream",
     "text": [
      "Epoch 9/50: 100%|██████████████████████████████████████████████████████████| 26/26 [00:04<00:00,  6.25it/s, Loss=0.391]\n"
     ]
    },
    {
     "name": "stdout",
     "output_type": "stream",
     "text": [
      "Epoch [9/50], Loss: 0.3913, Train Accuracy: 84.24%, Validation Accuracy: 84.63%\n"
     ]
    },
    {
     "name": "stderr",
     "output_type": "stream",
     "text": [
      "Epoch 10/50: 100%|█████████████████████████████████████████████████████████| 26/26 [00:04<00:00,  6.44it/s, Loss=0.379]\n"
     ]
    },
    {
     "name": "stdout",
     "output_type": "stream",
     "text": [
      "Epoch [10/50], Loss: 0.3794, Train Accuracy: 86.13%, Validation Accuracy: 84.88%\n"
     ]
    },
    {
     "name": "stderr",
     "output_type": "stream",
     "text": [
      "Epoch 11/50: 100%|█████████████████████████████████████████████████████████| 26/26 [00:04<00:00,  6.11it/s, Loss=0.362]\n"
     ]
    },
    {
     "name": "stdout",
     "output_type": "stream",
     "text": [
      "Epoch [11/50], Loss: 0.3621, Train Accuracy: 85.52%, Validation Accuracy: 85.85%\n",
      "Early stopping\n",
      "\n",
      "Run 4/5\n"
     ]
    },
    {
     "name": "stderr",
     "output_type": "stream",
     "text": [
      "Epoch 1/50: 100%|██████████████████████████████████████████████████████████| 26/26 [00:04<00:00,  6.17it/s, Loss=0.673]\n"
     ]
    },
    {
     "name": "stdout",
     "output_type": "stream",
     "text": [
      "Epoch [1/50], Loss: 0.6731, Train Accuracy: 66.34%, Validation Accuracy: 61.71%\n"
     ]
    },
    {
     "name": "stderr",
     "output_type": "stream",
     "text": [
      "Epoch 2/50: 100%|██████████████████████████████████████████████████████████| 26/26 [00:04<00:00,  6.19it/s, Loss=0.542]\n"
     ]
    },
    {
     "name": "stdout",
     "output_type": "stream",
     "text": [
      "Epoch [2/50], Loss: 0.5420, Train Accuracy: 76.36%, Validation Accuracy: 71.95%\n"
     ]
    },
    {
     "name": "stderr",
     "output_type": "stream",
     "text": [
      "Epoch 3/50: 100%|██████████████████████████████████████████████████████████| 26/26 [00:04<00:00,  6.30it/s, Loss=0.504]\n"
     ]
    },
    {
     "name": "stdout",
     "output_type": "stream",
     "text": [
      "Epoch [3/50], Loss: 0.5037, Train Accuracy: 78.25%, Validation Accuracy: 74.63%\n"
     ]
    },
    {
     "name": "stderr",
     "output_type": "stream",
     "text": [
      "Epoch 4/50: 100%|██████████████████████████████████████████████████████████| 26/26 [00:04<00:00,  6.23it/s, Loss=0.495]\n"
     ]
    },
    {
     "name": "stdout",
     "output_type": "stream",
     "text": [
      "Epoch [4/50], Loss: 0.4955, Train Accuracy: 81.06%, Validation Accuracy: 77.32%\n"
     ]
    },
    {
     "name": "stderr",
     "output_type": "stream",
     "text": [
      "Epoch 5/50: 100%|██████████████████████████████████████████████████████████| 26/26 [00:04<00:00,  6.33it/s, Loss=0.468]\n"
     ]
    },
    {
     "name": "stdout",
     "output_type": "stream",
     "text": [
      "Epoch [5/50], Loss: 0.4678, Train Accuracy: 81.92%, Validation Accuracy: 76.34%\n"
     ]
    },
    {
     "name": "stderr",
     "output_type": "stream",
     "text": [
      "Epoch 6/50: 100%|██████████████████████████████████████████████████████████| 26/26 [00:04<00:00,  6.26it/s, Loss=0.449]\n"
     ]
    },
    {
     "name": "stdout",
     "output_type": "stream",
     "text": [
      "Epoch [6/50], Loss: 0.4486, Train Accuracy: 83.14%, Validation Accuracy: 75.85%\n"
     ]
    },
    {
     "name": "stderr",
     "output_type": "stream",
     "text": [
      "Epoch 7/50: 100%|██████████████████████████████████████████████████████████| 26/26 [00:04<00:00,  6.28it/s, Loss=0.436]\n"
     ]
    },
    {
     "name": "stdout",
     "output_type": "stream",
     "text": [
      "Epoch [7/50], Loss: 0.4361, Train Accuracy: 79.66%, Validation Accuracy: 73.66%\n"
     ]
    },
    {
     "name": "stderr",
     "output_type": "stream",
     "text": [
      "Epoch 8/50: 100%|██████████████████████████████████████████████████████████| 26/26 [00:04<00:00,  6.31it/s, Loss=0.413]\n"
     ]
    },
    {
     "name": "stdout",
     "output_type": "stream",
     "text": [
      "Epoch [8/50], Loss: 0.4130, Train Accuracy: 84.48%, Validation Accuracy: 79.02%\n"
     ]
    },
    {
     "name": "stderr",
     "output_type": "stream",
     "text": [
      "Epoch 9/50: 100%|██████████████████████████████████████████████████████████| 26/26 [00:04<00:00,  6.17it/s, Loss=0.395]\n"
     ]
    },
    {
     "name": "stdout",
     "output_type": "stream",
     "text": [
      "Epoch [9/50], Loss: 0.3952, Train Accuracy: 81.31%, Validation Accuracy: 80.24%\n"
     ]
    },
    {
     "name": "stderr",
     "output_type": "stream",
     "text": [
      "Epoch 10/50: 100%|█████████████████████████████████████████████████████████| 26/26 [00:04<00:00,  6.12it/s, Loss=0.393]\n"
     ]
    },
    {
     "name": "stdout",
     "output_type": "stream",
     "text": [
      "Epoch [10/50], Loss: 0.3932, Train Accuracy: 85.09%, Validation Accuracy: 79.51%\n"
     ]
    },
    {
     "name": "stderr",
     "output_type": "stream",
     "text": [
      "Epoch 11/50: 100%|█████████████████████████████████████████████████████████| 26/26 [00:04<00:00,  6.19it/s, Loss=0.378]\n"
     ]
    },
    {
     "name": "stdout",
     "output_type": "stream",
     "text": [
      "Epoch [11/50], Loss: 0.3781, Train Accuracy: 85.46%, Validation Accuracy: 79.76%\n",
      "Early stopping\n",
      "\n",
      "Run 5/5\n"
     ]
    },
    {
     "name": "stderr",
     "output_type": "stream",
     "text": [
      "Epoch 1/50: 100%|██████████████████████████████████████████████████████████| 26/26 [00:04<00:00,  6.37it/s, Loss=0.637]\n"
     ]
    },
    {
     "name": "stdout",
     "output_type": "stream",
     "text": [
      "Epoch [1/50], Loss: 0.6372, Train Accuracy: 53.76%, Validation Accuracy: 48.05%\n"
     ]
    },
    {
     "name": "stderr",
     "output_type": "stream",
     "text": [
      "Epoch 2/50: 100%|██████████████████████████████████████████████████████████| 26/26 [00:04<00:00,  6.20it/s, Loss=0.549]\n"
     ]
    },
    {
     "name": "stdout",
     "output_type": "stream",
     "text": [
      "Epoch [2/50], Loss: 0.5489, Train Accuracy: 76.60%, Validation Accuracy: 70.98%\n"
     ]
    },
    {
     "name": "stderr",
     "output_type": "stream",
     "text": [
      "Epoch 3/50: 100%|██████████████████████████████████████████████████████████| 26/26 [00:04<00:00,  6.29it/s, Loss=0.509]\n"
     ]
    },
    {
     "name": "stdout",
     "output_type": "stream",
     "text": [
      "Epoch [3/50], Loss: 0.5090, Train Accuracy: 78.86%, Validation Accuracy: 73.66%\n"
     ]
    },
    {
     "name": "stderr",
     "output_type": "stream",
     "text": [
      "Epoch 4/50: 100%|██████████████████████████████████████████████████████████| 26/26 [00:04<00:00,  6.22it/s, Loss=0.478]\n"
     ]
    },
    {
     "name": "stdout",
     "output_type": "stream",
     "text": [
      "Epoch [4/50], Loss: 0.4778, Train Accuracy: 80.33%, Validation Accuracy: 77.32%\n"
     ]
    },
    {
     "name": "stderr",
     "output_type": "stream",
     "text": [
      "Epoch 5/50: 100%|██████████████████████████████████████████████████████████| 26/26 [00:04<00:00,  6.19it/s, Loss=0.464]\n"
     ]
    },
    {
     "name": "stdout",
     "output_type": "stream",
     "text": [
      "Epoch [5/50], Loss: 0.4636, Train Accuracy: 81.25%, Validation Accuracy: 79.02%\n"
     ]
    },
    {
     "name": "stderr",
     "output_type": "stream",
     "text": [
      "Epoch 6/50: 100%|██████████████████████████████████████████████████████████| 26/26 [00:04<00:00,  6.26it/s, Loss=0.434]\n"
     ]
    },
    {
     "name": "stdout",
     "output_type": "stream",
     "text": [
      "Epoch [6/50], Loss: 0.4341, Train Accuracy: 82.53%, Validation Accuracy: 77.80%\n"
     ]
    },
    {
     "name": "stderr",
     "output_type": "stream",
     "text": [
      "Epoch 7/50: 100%|██████████████████████████████████████████████████████████| 26/26 [00:04<00:00,  6.31it/s, Loss=0.424]\n"
     ]
    },
    {
     "name": "stdout",
     "output_type": "stream",
     "text": [
      "Epoch [7/50], Loss: 0.4245, Train Accuracy: 82.90%, Validation Accuracy: 78.54%\n"
     ]
    },
    {
     "name": "stderr",
     "output_type": "stream",
     "text": [
      "Epoch 8/50: 100%|██████████████████████████████████████████████████████████| 26/26 [00:04<00:00,  6.30it/s, Loss=0.401]\n"
     ]
    },
    {
     "name": "stdout",
     "output_type": "stream",
     "text": [
      "Epoch [8/50], Loss: 0.4014, Train Accuracy: 84.18%, Validation Accuracy: 79.76%\n"
     ]
    },
    {
     "name": "stderr",
     "output_type": "stream",
     "text": [
      "Epoch 9/50: 100%|██████████████████████████████████████████████████████████| 26/26 [00:04<00:00,  6.29it/s, Loss=0.372]\n"
     ]
    },
    {
     "name": "stdout",
     "output_type": "stream",
     "text": [
      "Epoch [9/50], Loss: 0.3721, Train Accuracy: 86.01%, Validation Accuracy: 81.71%\n"
     ]
    },
    {
     "name": "stderr",
     "output_type": "stream",
     "text": [
      "Epoch 10/50: 100%|█████████████████████████████████████████████████████████| 26/26 [00:04<00:00,  6.21it/s, Loss=0.373]\n"
     ]
    },
    {
     "name": "stdout",
     "output_type": "stream",
     "text": [
      "Epoch [10/50], Loss: 0.3728, Train Accuracy: 86.26%, Validation Accuracy: 80.49%\n"
     ]
    },
    {
     "name": "stderr",
     "output_type": "stream",
     "text": [
      "Epoch 11/50: 100%|█████████████████████████████████████████████████████████| 26/26 [00:04<00:00,  6.25it/s, Loss=0.344]\n"
     ]
    },
    {
     "name": "stdout",
     "output_type": "stream",
     "text": [
      "Epoch [11/50], Loss: 0.3440, Train Accuracy: 87.78%, Validation Accuracy: 82.68%\n",
      "Early stopping\n",
      "\n",
      "Running experiment with color_jitter+random_rotation+random_horizontal_flip+random_affine+random_resized_crop\n",
      "\n",
      "Run 1/5\n"
     ]
    },
    {
     "name": "stderr",
     "output_type": "stream",
     "text": [
      "Epoch 1/50: 100%|██████████████████████████████████████████████████████████| 26/26 [00:06<00:00,  3.92it/s, Loss=0.665]\n"
     ]
    },
    {
     "name": "stdout",
     "output_type": "stream",
     "text": [
      "Epoch [1/50], Loss: 0.6652, Train Accuracy: 55.71%, Validation Accuracy: 55.12%\n"
     ]
    },
    {
     "name": "stderr",
     "output_type": "stream",
     "text": [
      "Epoch 2/50: 100%|██████████████████████████████████████████████████████████| 26/26 [00:07<00:00,  3.68it/s, Loss=0.589]\n"
     ]
    },
    {
     "name": "stdout",
     "output_type": "stream",
     "text": [
      "Epoch [2/50], Loss: 0.5887, Train Accuracy: 67.20%, Validation Accuracy: 64.88%\n"
     ]
    },
    {
     "name": "stderr",
     "output_type": "stream",
     "text": [
      "Epoch 3/50: 100%|███████████████████████████████████████████████████████████| 26/26 [00:06<00:00,  3.84it/s, Loss=0.57]\n"
     ]
    },
    {
     "name": "stdout",
     "output_type": "stream",
     "text": [
      "Epoch [3/50], Loss: 0.5697, Train Accuracy: 74.77%, Validation Accuracy: 74.39%\n"
     ]
    },
    {
     "name": "stderr",
     "output_type": "stream",
     "text": [
      "Epoch 4/50: 100%|██████████████████████████████████████████████████████████| 26/26 [00:06<00:00,  3.85it/s, Loss=0.547]\n"
     ]
    },
    {
     "name": "stdout",
     "output_type": "stream",
     "text": [
      "Epoch [4/50], Loss: 0.5473, Train Accuracy: 75.87%, Validation Accuracy: 74.63%\n"
     ]
    },
    {
     "name": "stderr",
     "output_type": "stream",
     "text": [
      "Epoch 5/50: 100%|██████████████████████████████████████████████████████████| 26/26 [00:07<00:00,  3.52it/s, Loss=0.535]\n"
     ]
    },
    {
     "name": "stdout",
     "output_type": "stream",
     "text": [
      "Epoch [5/50], Loss: 0.5346, Train Accuracy: 76.85%, Validation Accuracy: 74.15%\n"
     ]
    },
    {
     "name": "stderr",
     "output_type": "stream",
     "text": [
      "Epoch 6/50: 100%|███████████████████████████████████████████████████████████| 26/26 [00:06<00:00,  3.90it/s, Loss=0.53]\n"
     ]
    },
    {
     "name": "stdout",
     "output_type": "stream",
     "text": [
      "Epoch [6/50], Loss: 0.5302, Train Accuracy: 77.34%, Validation Accuracy: 76.59%\n"
     ]
    },
    {
     "name": "stderr",
     "output_type": "stream",
     "text": [
      "Epoch 7/50: 100%|██████████████████████████████████████████████████████████| 26/26 [00:06<00:00,  3.86it/s, Loss=0.515]\n"
     ]
    },
    {
     "name": "stdout",
     "output_type": "stream",
     "text": [
      "Epoch [7/50], Loss: 0.5147, Train Accuracy: 77.15%, Validation Accuracy: 77.80%\n"
     ]
    },
    {
     "name": "stderr",
     "output_type": "stream",
     "text": [
      "Epoch 8/50: 100%|██████████████████████████████████████████████████████████| 26/26 [00:06<00:00,  3.84it/s, Loss=0.519]\n"
     ]
    },
    {
     "name": "stdout",
     "output_type": "stream",
     "text": [
      "Epoch [8/50], Loss: 0.5193, Train Accuracy: 78.74%, Validation Accuracy: 78.05%\n"
     ]
    },
    {
     "name": "stderr",
     "output_type": "stream",
     "text": [
      "Epoch 9/50: 100%|██████████████████████████████████████████████████████████| 26/26 [00:06<00:00,  3.90it/s, Loss=0.495]\n"
     ]
    },
    {
     "name": "stdout",
     "output_type": "stream",
     "text": [
      "Epoch [9/50], Loss: 0.4952, Train Accuracy: 79.41%, Validation Accuracy: 78.54%\n"
     ]
    },
    {
     "name": "stderr",
     "output_type": "stream",
     "text": [
      "Epoch 10/50: 100%|█████████████████████████████████████████████████████████| 26/26 [00:06<00:00,  3.83it/s, Loss=0.495]\n"
     ]
    },
    {
     "name": "stdout",
     "output_type": "stream",
     "text": [
      "Epoch [10/50], Loss: 0.4952, Train Accuracy: 75.26%, Validation Accuracy: 76.34%\n"
     ]
    },
    {
     "name": "stderr",
     "output_type": "stream",
     "text": [
      "Epoch 11/50: 100%|█████████████████████████████████████████████████████████| 26/26 [00:06<00:00,  3.79it/s, Loss=0.484]\n"
     ]
    },
    {
     "name": "stdout",
     "output_type": "stream",
     "text": [
      "Epoch [11/50], Loss: 0.4840, Train Accuracy: 78.92%, Validation Accuracy: 78.29%\n",
      "Early stopping\n",
      "\n",
      "Run 2/5\n"
     ]
    },
    {
     "name": "stderr",
     "output_type": "stream",
     "text": [
      "Epoch 1/50: 100%|██████████████████████████████████████████████████████████| 26/26 [00:06<00:00,  3.77it/s, Loss=0.654]\n"
     ]
    },
    {
     "name": "stdout",
     "output_type": "stream",
     "text": [
      "Epoch [1/50], Loss: 0.6539, Train Accuracy: 62.74%, Validation Accuracy: 60.98%\n"
     ]
    },
    {
     "name": "stderr",
     "output_type": "stream",
     "text": [
      "Epoch 2/50: 100%|██████████████████████████████████████████████████████████| 26/26 [00:06<00:00,  3.83it/s, Loss=0.583]\n"
     ]
    },
    {
     "name": "stdout",
     "output_type": "stream",
     "text": [
      "Epoch [2/50], Loss: 0.5835, Train Accuracy: 69.09%, Validation Accuracy: 69.51%\n"
     ]
    },
    {
     "name": "stderr",
     "output_type": "stream",
     "text": [
      "Epoch 3/50: 100%|██████████████████████████████████████████████████████████| 26/26 [00:06<00:00,  3.84it/s, Loss=0.548]\n"
     ]
    },
    {
     "name": "stdout",
     "output_type": "stream",
     "text": [
      "Epoch [3/50], Loss: 0.5482, Train Accuracy: 73.00%, Validation Accuracy: 70.73%\n"
     ]
    },
    {
     "name": "stderr",
     "output_type": "stream",
     "text": [
      "Epoch 4/50: 100%|██████████████████████████████████████████████████████████| 26/26 [00:06<00:00,  3.80it/s, Loss=0.538]\n"
     ]
    },
    {
     "name": "stdout",
     "output_type": "stream",
     "text": [
      "Epoch [4/50], Loss: 0.5383, Train Accuracy: 75.32%, Validation Accuracy: 76.83%\n"
     ]
    },
    {
     "name": "stderr",
     "output_type": "stream",
     "text": [
      "Epoch 5/50: 100%|██████████████████████████████████████████████████████████| 26/26 [00:06<00:00,  3.86it/s, Loss=0.534]\n"
     ]
    },
    {
     "name": "stdout",
     "output_type": "stream",
     "text": [
      "Epoch [5/50], Loss: 0.5336, Train Accuracy: 78.07%, Validation Accuracy: 74.63%\n"
     ]
    },
    {
     "name": "stderr",
     "output_type": "stream",
     "text": [
      "Epoch 6/50: 100%|██████████████████████████████████████████████████████████| 26/26 [00:06<00:00,  3.77it/s, Loss=0.496]\n"
     ]
    },
    {
     "name": "stdout",
     "output_type": "stream",
     "text": [
      "Epoch [6/50], Loss: 0.4956, Train Accuracy: 77.64%, Validation Accuracy: 77.32%\n"
     ]
    },
    {
     "name": "stderr",
     "output_type": "stream",
     "text": [
      "Epoch 7/50: 100%|██████████████████████████████████████████████████████████| 26/26 [00:06<00:00,  3.84it/s, Loss=0.502]\n"
     ]
    },
    {
     "name": "stdout",
     "output_type": "stream",
     "text": [
      "Epoch [7/50], Loss: 0.5016, Train Accuracy: 76.91%, Validation Accuracy: 75.85%\n"
     ]
    },
    {
     "name": "stderr",
     "output_type": "stream",
     "text": [
      "Epoch 8/50: 100%|██████████████████████████████████████████████████████████| 26/26 [00:06<00:00,  3.88it/s, Loss=0.501]\n"
     ]
    },
    {
     "name": "stdout",
     "output_type": "stream",
     "text": [
      "Epoch [8/50], Loss: 0.5007, Train Accuracy: 78.56%, Validation Accuracy: 75.85%\n"
     ]
    },
    {
     "name": "stderr",
     "output_type": "stream",
     "text": [
      "Epoch 9/50: 100%|██████████████████████████████████████████████████████████| 26/26 [00:07<00:00,  3.70it/s, Loss=0.494]\n"
     ]
    },
    {
     "name": "stdout",
     "output_type": "stream",
     "text": [
      "Epoch [9/50], Loss: 0.4942, Train Accuracy: 78.80%, Validation Accuracy: 78.05%\n"
     ]
    },
    {
     "name": "stderr",
     "output_type": "stream",
     "text": [
      "Epoch 10/50: 100%|█████████████████████████████████████████████████████████| 26/26 [00:06<00:00,  3.87it/s, Loss=0.493]\n"
     ]
    },
    {
     "name": "stdout",
     "output_type": "stream",
     "text": [
      "Epoch [10/50], Loss: 0.4926, Train Accuracy: 79.23%, Validation Accuracy: 76.59%\n"
     ]
    },
    {
     "name": "stderr",
     "output_type": "stream",
     "text": [
      "Epoch 11/50: 100%|█████████████████████████████████████████████████████████| 26/26 [00:06<00:00,  3.83it/s, Loss=0.472]\n"
     ]
    },
    {
     "name": "stdout",
     "output_type": "stream",
     "text": [
      "Epoch [11/50], Loss: 0.4716, Train Accuracy: 79.78%, Validation Accuracy: 78.29%\n",
      "Early stopping\n",
      "\n",
      "Run 3/5\n"
     ]
    },
    {
     "name": "stderr",
     "output_type": "stream",
     "text": [
      "Epoch 1/50: 100%|██████████████████████████████████████████████████████████| 26/26 [00:06<00:00,  3.93it/s, Loss=0.659]\n"
     ]
    },
    {
     "name": "stdout",
     "output_type": "stream",
     "text": [
      "Epoch [1/50], Loss: 0.6592, Train Accuracy: 68.30%, Validation Accuracy: 69.51%\n"
     ]
    },
    {
     "name": "stderr",
     "output_type": "stream",
     "text": [
      "Epoch 2/50: 100%|██████████████████████████████████████████████████████████| 26/26 [00:06<00:00,  3.84it/s, Loss=0.588]\n"
     ]
    },
    {
     "name": "stdout",
     "output_type": "stream",
     "text": [
      "Epoch [2/50], Loss: 0.5880, Train Accuracy: 73.67%, Validation Accuracy: 73.66%\n"
     ]
    },
    {
     "name": "stderr",
     "output_type": "stream",
     "text": [
      "Epoch 3/50: 100%|██████████████████████████████████████████████████████████| 26/26 [00:06<00:00,  3.86it/s, Loss=0.566]\n"
     ]
    },
    {
     "name": "stdout",
     "output_type": "stream",
     "text": [
      "Epoch [3/50], Loss: 0.5663, Train Accuracy: 74.40%, Validation Accuracy: 75.12%\n"
     ]
    },
    {
     "name": "stderr",
     "output_type": "stream",
     "text": [
      "Epoch 4/50: 100%|██████████████████████████████████████████████████████████| 26/26 [00:06<00:00,  3.75it/s, Loss=0.557]\n"
     ]
    },
    {
     "name": "stdout",
     "output_type": "stream",
     "text": [
      "Epoch [4/50], Loss: 0.5566, Train Accuracy: 74.53%, Validation Accuracy: 75.61%\n"
     ]
    },
    {
     "name": "stderr",
     "output_type": "stream",
     "text": [
      "Epoch 5/50: 100%|██████████████████████████████████████████████████████████| 26/26 [00:06<00:00,  3.85it/s, Loss=0.523]\n"
     ]
    },
    {
     "name": "stdout",
     "output_type": "stream",
     "text": [
      "Epoch [5/50], Loss: 0.5226, Train Accuracy: 75.99%, Validation Accuracy: 76.83%\n"
     ]
    },
    {
     "name": "stderr",
     "output_type": "stream",
     "text": [
      "Epoch 6/50: 100%|██████████████████████████████████████████████████████████| 26/26 [00:07<00:00,  3.58it/s, Loss=0.526]\n"
     ]
    },
    {
     "name": "stdout",
     "output_type": "stream",
     "text": [
      "Epoch [6/50], Loss: 0.5261, Train Accuracy: 76.66%, Validation Accuracy: 77.56%\n"
     ]
    },
    {
     "name": "stderr",
     "output_type": "stream",
     "text": [
      "Epoch 7/50: 100%|██████████████████████████████████████████████████████████| 26/26 [00:06<00:00,  3.81it/s, Loss=0.512]\n"
     ]
    },
    {
     "name": "stdout",
     "output_type": "stream",
     "text": [
      "Epoch [7/50], Loss: 0.5119, Train Accuracy: 76.42%, Validation Accuracy: 73.66%\n"
     ]
    },
    {
     "name": "stderr",
     "output_type": "stream",
     "text": [
      "Epoch 8/50: 100%|██████████████████████████████████████████████████████████| 26/26 [00:07<00:00,  3.54it/s, Loss=0.525]\n"
     ]
    },
    {
     "name": "stdout",
     "output_type": "stream",
     "text": [
      "Epoch [8/50], Loss: 0.5247, Train Accuracy: 76.66%, Validation Accuracy: 75.61%\n"
     ]
    },
    {
     "name": "stderr",
     "output_type": "stream",
     "text": [
      "Epoch 9/50: 100%|██████████████████████████████████████████████████████████| 26/26 [00:06<00:00,  3.81it/s, Loss=0.499]\n"
     ]
    },
    {
     "name": "stdout",
     "output_type": "stream",
     "text": [
      "Epoch [9/50], Loss: 0.4987, Train Accuracy: 73.85%, Validation Accuracy: 75.85%\n"
     ]
    },
    {
     "name": "stderr",
     "output_type": "stream",
     "text": [
      "Epoch 10/50: 100%|█████████████████████████████████████████████████████████| 26/26 [00:07<00:00,  3.57it/s, Loss=0.494]\n"
     ]
    },
    {
     "name": "stdout",
     "output_type": "stream",
     "text": [
      "Epoch [10/50], Loss: 0.4936, Train Accuracy: 79.60%, Validation Accuracy: 80.73%\n"
     ]
    },
    {
     "name": "stderr",
     "output_type": "stream",
     "text": [
      "Epoch 11/50: 100%|█████████████████████████████████████████████████████████| 26/26 [00:06<00:00,  3.86it/s, Loss=0.485]\n"
     ]
    },
    {
     "name": "stdout",
     "output_type": "stream",
     "text": [
      "Epoch [11/50], Loss: 0.4847, Train Accuracy: 78.68%, Validation Accuracy: 77.56%\n",
      "Early stopping\n",
      "\n",
      "Run 4/5\n"
     ]
    },
    {
     "name": "stderr",
     "output_type": "stream",
     "text": [
      "Epoch 1/50: 100%|██████████████████████████████████████████████████████████| 26/26 [00:07<00:00,  3.53it/s, Loss=0.664]\n"
     ]
    },
    {
     "name": "stdout",
     "output_type": "stream",
     "text": [
      "Epoch [1/50], Loss: 0.6636, Train Accuracy: 55.47%, Validation Accuracy: 54.39%\n"
     ]
    },
    {
     "name": "stderr",
     "output_type": "stream",
     "text": [
      "Epoch 2/50: 100%|██████████████████████████████████████████████████████████| 26/26 [00:06<00:00,  3.74it/s, Loss=0.583]\n"
     ]
    },
    {
     "name": "stdout",
     "output_type": "stream",
     "text": [
      "Epoch [2/50], Loss: 0.5835, Train Accuracy: 71.66%, Validation Accuracy: 71.22%\n"
     ]
    },
    {
     "name": "stderr",
     "output_type": "stream",
     "text": [
      "Epoch 3/50: 100%|██████████████████████████████████████████████████████████| 26/26 [00:06<00:00,  3.87it/s, Loss=0.551]\n"
     ]
    },
    {
     "name": "stdout",
     "output_type": "stream",
     "text": [
      "Epoch [3/50], Loss: 0.5509, Train Accuracy: 75.08%, Validation Accuracy: 77.80%\n"
     ]
    },
    {
     "name": "stderr",
     "output_type": "stream",
     "text": [
      "Epoch 4/50: 100%|██████████████████████████████████████████████████████████| 26/26 [00:06<00:00,  3.86it/s, Loss=0.526]\n"
     ]
    },
    {
     "name": "stdout",
     "output_type": "stream",
     "text": [
      "Epoch [4/50], Loss: 0.5263, Train Accuracy: 75.08%, Validation Accuracy: 75.37%\n"
     ]
    },
    {
     "name": "stderr",
     "output_type": "stream",
     "text": [
      "Epoch 5/50: 100%|██████████████████████████████████████████████████████████| 26/26 [00:07<00:00,  3.66it/s, Loss=0.522]\n"
     ]
    },
    {
     "name": "stdout",
     "output_type": "stream",
     "text": [
      "Epoch [5/50], Loss: 0.5219, Train Accuracy: 76.97%, Validation Accuracy: 76.59%\n"
     ]
    },
    {
     "name": "stderr",
     "output_type": "stream",
     "text": [
      "Epoch 6/50: 100%|██████████████████████████████████████████████████████████| 26/26 [00:06<00:00,  3.77it/s, Loss=0.501]\n"
     ]
    },
    {
     "name": "stdout",
     "output_type": "stream",
     "text": [
      "Epoch [6/50], Loss: 0.5006, Train Accuracy: 74.28%, Validation Accuracy: 73.66%\n"
     ]
    },
    {
     "name": "stderr",
     "output_type": "stream",
     "text": [
      "Epoch 7/50: 100%|██████████████████████████████████████████████████████████| 26/26 [00:06<00:00,  3.87it/s, Loss=0.504]\n"
     ]
    },
    {
     "name": "stdout",
     "output_type": "stream",
     "text": [
      "Epoch [7/50], Loss: 0.5039, Train Accuracy: 78.25%, Validation Accuracy: 80.73%\n"
     ]
    },
    {
     "name": "stderr",
     "output_type": "stream",
     "text": [
      "Epoch 8/50: 100%|██████████████████████████████████████████████████████████| 26/26 [00:07<00:00,  3.58it/s, Loss=0.498]\n"
     ]
    },
    {
     "name": "stdout",
     "output_type": "stream",
     "text": [
      "Epoch [8/50], Loss: 0.4984, Train Accuracy: 79.23%, Validation Accuracy: 78.05%\n"
     ]
    },
    {
     "name": "stderr",
     "output_type": "stream",
     "text": [
      "Epoch 9/50: 100%|██████████████████████████████████████████████████████████| 26/26 [00:06<00:00,  3.83it/s, Loss=0.464]\n"
     ]
    },
    {
     "name": "stdout",
     "output_type": "stream",
     "text": [
      "Epoch [9/50], Loss: 0.4639, Train Accuracy: 78.07%, Validation Accuracy: 77.80%\n"
     ]
    },
    {
     "name": "stderr",
     "output_type": "stream",
     "text": [
      "Epoch 10/50: 100%|█████████████████████████████████████████████████████████| 26/26 [00:06<00:00,  3.85it/s, Loss=0.477]\n"
     ]
    },
    {
     "name": "stdout",
     "output_type": "stream",
     "text": [
      "Epoch [10/50], Loss: 0.4769, Train Accuracy: 79.17%, Validation Accuracy: 76.34%\n"
     ]
    },
    {
     "name": "stderr",
     "output_type": "stream",
     "text": [
      "Epoch 11/50: 100%|█████████████████████████████████████████████████████████| 26/26 [00:07<00:00,  3.44it/s, Loss=0.471]\n"
     ]
    },
    {
     "name": "stdout",
     "output_type": "stream",
     "text": [
      "Epoch [11/50], Loss: 0.4712, Train Accuracy: 79.47%, Validation Accuracy: 79.51%\n",
      "Early stopping\n",
      "\n",
      "Run 5/5\n"
     ]
    },
    {
     "name": "stderr",
     "output_type": "stream",
     "text": [
      "Epoch 1/50: 100%|██████████████████████████████████████████████████████████| 26/26 [00:07<00:00,  3.71it/s, Loss=0.675]\n"
     ]
    },
    {
     "name": "stdout",
     "output_type": "stream",
     "text": [
      "Epoch [1/50], Loss: 0.6748, Train Accuracy: 55.35%, Validation Accuracy: 48.54%\n"
     ]
    },
    {
     "name": "stderr",
     "output_type": "stream",
     "text": [
      "Epoch 2/50: 100%|██████████████████████████████████████████████████████████| 26/26 [00:07<00:00,  3.61it/s, Loss=0.595]\n"
     ]
    },
    {
     "name": "stdout",
     "output_type": "stream",
     "text": [
      "Epoch [2/50], Loss: 0.5945, Train Accuracy: 68.23%, Validation Accuracy: 69.51%\n"
     ]
    },
    {
     "name": "stderr",
     "output_type": "stream",
     "text": [
      "Epoch 3/50: 100%|██████████████████████████████████████████████████████████| 26/26 [00:06<00:00,  3.82it/s, Loss=0.562]\n"
     ]
    },
    {
     "name": "stdout",
     "output_type": "stream",
     "text": [
      "Epoch [3/50], Loss: 0.5618, Train Accuracy: 74.34%, Validation Accuracy: 76.10%\n"
     ]
    },
    {
     "name": "stderr",
     "output_type": "stream",
     "text": [
      "Epoch 4/50: 100%|██████████████████████████████████████████████████████████| 26/26 [00:06<00:00,  3.77it/s, Loss=0.558]\n"
     ]
    },
    {
     "name": "stdout",
     "output_type": "stream",
     "text": [
      "Epoch [4/50], Loss: 0.5577, Train Accuracy: 74.83%, Validation Accuracy: 77.07%\n"
     ]
    },
    {
     "name": "stderr",
     "output_type": "stream",
     "text": [
      "Epoch 5/50: 100%|██████████████████████████████████████████████████████████| 26/26 [00:06<00:00,  3.85it/s, Loss=0.519]\n"
     ]
    },
    {
     "name": "stdout",
     "output_type": "stream",
     "text": [
      "Epoch [5/50], Loss: 0.5187, Train Accuracy: 75.63%, Validation Accuracy: 77.32%\n"
     ]
    },
    {
     "name": "stderr",
     "output_type": "stream",
     "text": [
      "Epoch 6/50: 100%|██████████████████████████████████████████████████████████| 26/26 [00:06<00:00,  3.85it/s, Loss=0.515]\n"
     ]
    },
    {
     "name": "stdout",
     "output_type": "stream",
     "text": [
      "Epoch [6/50], Loss: 0.5152, Train Accuracy: 75.50%, Validation Accuracy: 77.80%\n"
     ]
    },
    {
     "name": "stderr",
     "output_type": "stream",
     "text": [
      "Epoch 7/50: 100%|██████████████████████████████████████████████████████████| 26/26 [00:06<00:00,  3.86it/s, Loss=0.537]\n"
     ]
    },
    {
     "name": "stdout",
     "output_type": "stream",
     "text": [
      "Epoch [7/50], Loss: 0.5370, Train Accuracy: 73.30%, Validation Accuracy: 76.10%\n"
     ]
    },
    {
     "name": "stderr",
     "output_type": "stream",
     "text": [
      "Epoch 8/50: 100%|██████████████████████████████████████████████████████████| 26/26 [00:06<00:00,  3.78it/s, Loss=0.532]\n"
     ]
    },
    {
     "name": "stdout",
     "output_type": "stream",
     "text": [
      "Epoch [8/50], Loss: 0.5318, Train Accuracy: 75.32%, Validation Accuracy: 77.80%\n"
     ]
    },
    {
     "name": "stderr",
     "output_type": "stream",
     "text": [
      "Epoch 9/50: 100%|██████████████████████████████████████████████████████████| 26/26 [00:06<00:00,  3.82it/s, Loss=0.502]\n"
     ]
    },
    {
     "name": "stdout",
     "output_type": "stream",
     "text": [
      "Epoch [9/50], Loss: 0.5024, Train Accuracy: 78.07%, Validation Accuracy: 77.32%\n"
     ]
    },
    {
     "name": "stderr",
     "output_type": "stream",
     "text": [
      "Epoch 10/50: 100%|█████████████████████████████████████████████████████████| 26/26 [00:06<00:00,  3.86it/s, Loss=0.488]\n"
     ]
    },
    {
     "name": "stdout",
     "output_type": "stream",
     "text": [
      "Epoch [10/50], Loss: 0.4883, Train Accuracy: 77.83%, Validation Accuracy: 79.51%\n"
     ]
    },
    {
     "name": "stderr",
     "output_type": "stream",
     "text": [
      "Epoch 11/50: 100%|█████████████████████████████████████████████████████████| 26/26 [00:06<00:00,  3.79it/s, Loss=0.481]\n"
     ]
    },
    {
     "name": "stdout",
     "output_type": "stream",
     "text": [
      "Epoch [11/50], Loss: 0.4813, Train Accuracy: 78.86%, Validation Accuracy: 81.95%\n",
      "Early stopping\n",
      "\n",
      "Experiment completed. Results saved to 'hotdog_classification_results.csv'\n"
     ]
    }
   ],
   "source": [
    "import torch\n",
    "import torch.nn as nn\n",
    "import torch.optim as optim\n",
    "import torchvision.transforms as transforms\n",
    "from torch.utils.data import DataLoader, random_split\n",
    "from PIL import Image\n",
    "import os\n",
    "import glob\n",
    "import matplotlib.pyplot as plt\n",
    "from tqdm import tqdm\n",
    "import csv\n",
    "import random\n",
    "\n",
    "# Define device\n",
    "device = torch.device('cuda' if torch.cuda.is_available() else 'cpu')\n",
    "\n",
    "# Define the Hotdog_NotHotdog dataset class\n",
    "class Hotdog_NotHotdog(torch.utils.data.Dataset):\n",
    "    def __init__(self, train, transform, data_path='C:/Users/nicla/DTU/ComputerVision/1st Poster/hotdog_nothotdog'):\n",
    "        'Initialization'\n",
    "        self.transform = transform\n",
    "        data_path = os.path.join(data_path, 'train' if train else 'test')\n",
    "        image_classes = [os.path.split(d)[1] for d in glob.glob(data_path + '/*') if os.path.isdir(d)]\n",
    "        image_classes.sort()\n",
    "        self.name_to_label = {c: id for id, c in enumerate(image_classes)}\n",
    "        self.image_paths = glob.glob(data_path + '/*/*.jpg')\n",
    "        \n",
    "    def __len__(self):\n",
    "        'Returns the total number of samples'\n",
    "        return len(self.image_paths)\n",
    "\n",
    "    def __getitem__(self, idx):\n",
    "        'Generates one sample of data'\n",
    "        image_path = self.image_paths[idx]\n",
    "        image = Image.open(image_path)\n",
    "        c = os.path.split(os.path.split(image_path)[0])[1]\n",
    "        y = self.name_to_label[c]\n",
    "        X = self.transform(image)\n",
    "        return X, y\n",
    "\n",
    "class SimpleCNN(nn.Module):\n",
    "    def __init__(self):\n",
    "        super(SimpleCNN, self).__init__()\n",
    "        self.conv1 = nn.Conv2d(3, 32, kernel_size=3, padding=1)\n",
    "        self.bn1 = nn.BatchNorm2d(32)\n",
    "        self.conv2 = nn.Conv2d(32, 64, kernel_size=3, padding=1)\n",
    "        self.bn2 = nn.BatchNorm2d(64)\n",
    "        self.conv3 = nn.Conv2d(64, 64, kernel_size=3, padding=1)\n",
    "        self.bn3 = nn.BatchNorm2d(64)\n",
    "        self.pool = nn.MaxPool2d(2, 2)\n",
    "        self.fc1 = nn.Linear(64 * 16 * 16, 64)\n",
    "        self.dropout = nn.Dropout(0.5)\n",
    "        self.fc2 = nn.Linear(64, 1)\n",
    "\n",
    "    def forward(self, x):\n",
    "        x = self.pool(torch.relu(self.bn1(self.conv1(x))))\n",
    "        x = self.pool(torch.relu(self.bn2(self.conv2(x))))\n",
    "        x = self.pool(torch.relu(self.bn3(self.conv3(x))))\n",
    "        x = x.view(-1, 64 * 16 * 16)\n",
    "        x = torch.relu(self.fc1(x))\n",
    "        x = self.dropout(x)\n",
    "        x = self.fc2(x)\n",
    "        return torch.sigmoid(x)\n",
    "\n",
    "# Early stopping utility\n",
    "class EarlyStopping:\n",
    "    def __init__(self, patience=5, delta=0):\n",
    "        self.patience = patience\n",
    "        self.delta = delta\n",
    "        self.best_score = None\n",
    "        self.early_stop = False\n",
    "        self.counter = 0\n",
    "\n",
    "    def __call__(self, val_loss):\n",
    "        score = -val_loss\n",
    "        if self.best_score is None:\n",
    "            self.best_score = score\n",
    "        elif score < self.best_score + self.delta:\n",
    "            self.counter += 1\n",
    "            if self.counter >= self.patience:\n",
    "                self.early_stop = True\n",
    "        else:\n",
    "            self.best_score = score\n",
    "            self.counter = 0\n",
    "\n",
    "\n",
    "# Function to calculate accuracy\n",
    "def calculate_accuracy(loader, model, device):\n",
    "    model.eval()  \n",
    "    correct = 0\n",
    "    total = 0\n",
    "    \n",
    "    with torch.no_grad(): \n",
    "        for inputs, labels in loader:\n",
    "            inputs, labels = inputs.to(device), labels.to(device)\n",
    "            outputs = model(inputs)\n",
    "            predicted = (outputs > 0.5).float() \n",
    "            correct += (predicted.squeeze() == labels).sum().item()\n",
    "            total += labels.size(0)\n",
    "\n",
    "    accuracy = 100 * correct / total\n",
    "    return accuracy\n",
    "\n",
    "# Training function with early stopping\n",
    "def train_model(model, train_loader, val_loader, criterion, optimizer, num_epochs, patience, device):\n",
    "    model.to(device)  # Move model to the specified device\n",
    "    train_accuracies = []\n",
    "    val_accuracies = []\n",
    "    \n",
    "    early_stopping = EarlyStopping(patience=patience)\n",
    "    \n",
    "    for epoch in range(num_epochs):\n",
    "        model.train()\n",
    "        running_loss = 0.0\n",
    "        progress_bar = tqdm(train_loader, desc=f\"Epoch {epoch+1}/{num_epochs}\")\n",
    "\n",
    "        for i, data in enumerate(progress_bar):\n",
    "            inputs, labels = data\n",
    "            inputs, labels = inputs.to(device), labels.to(device)\n",
    "\n",
    "            optimizer.zero_grad()\n",
    "            outputs = model(inputs)\n",
    "            loss = criterion(outputs.squeeze(), labels.float())\n",
    "            loss.backward()\n",
    "            optimizer.step()\n",
    "            running_loss += loss.item()\n",
    "            progress_bar.set_postfix({'Loss': running_loss / (i + 1)})\n",
    "\n",
    "        # Calculate accuracy on training and validation datasets\n",
    "        train_acc = calculate_accuracy(train_loader, model, device)\n",
    "        val_acc = calculate_accuracy(val_loader, model, device)\n",
    "        train_accuracies.append(train_acc)\n",
    "        val_accuracies.append(val_acc)\n",
    "\n",
    "        print(f'Epoch [{epoch+1}/{num_epochs}], Loss: {running_loss/len(train_loader):.4f}, '\n",
    "              f'Train Accuracy: {train_acc:.2f}%, Validation Accuracy: {val_acc:.2f}%')\n",
    "\n",
    "        # Early stopping check\n",
    "        early_stopping(val_acc)\n",
    "        if early_stopping.early_stop:\n",
    "            print(\"Early stopping\")\n",
    "            break\n",
    "\n",
    "    return train_accuracies, val_accuracies\n",
    "\n",
    "# Main\n",
    "def run_experiment(augmentation_methods, num_runs=5):\n",
    "    size = 128\n",
    "    batch_size = 64\n",
    "    num_epochs = 50\n",
    "    patience = 10\n",
    "    results = []\n",
    "\n",
    "    base_transform = transforms.Compose([\n",
    "        transforms.Resize((size, size)),\n",
    "        transforms.ToTensor()\n",
    "    ])\n",
    "\n",
    "    # Define augmentation methods\n",
    "    color_jitter = transforms.ColorJitter(brightness=0.2, contrast=0.2, saturation=0.2, hue=0.1)\n",
    "    random_rotation = transforms.RandomRotation(degrees=15)\n",
    "    random_horizontal_flip = transforms.RandomHorizontalFlip(p=0.5)\n",
    "    random_affine = transforms.RandomAffine(degrees=15, translate=(0.1, 0.1), scale=(0.8, 1.2))\n",
    "    random_resized_crop = transforms.RandomResizedCrop(size, scale=(0.8, 1.0))\n",
    "\n",
    "    augmentation_dict = {\n",
    "        'color_jitter': color_jitter,\n",
    "        'random_rotation': random_rotation,\n",
    "        'random_horizontal_flip': random_horizontal_flip,\n",
    "        'random_affine': random_affine,\n",
    "        'random_resized_crop': random_resized_crop\n",
    "    }\n",
    "\n",
    "    # Create all combinations of augmentation methods\n",
    "    augmentation_combinations = [\n",
    "        [],\n",
    "        ['color_jitter'],\n",
    "        ['random_rotation'],\n",
    "        ['random_horizontal_flip'],\n",
    "        ['random_affine'],\n",
    "        ['random_resized_crop'],\n",
    "        ['color_jitter', 'random_rotation', 'random_horizontal_flip', 'random_affine', 'random_resized_crop']\n",
    "    ]\n",
    "\n",
    "    for combo in augmentation_combinations:\n",
    "        combo_name = '+'.join(combo) if combo else 'no_augmentation'\n",
    "        print(f\"\\nRunning experiment with {combo_name}\")\n",
    "\n",
    "        for run in range(num_runs):\n",
    "            print(f\"\\nRun {run + 1}/{num_runs}\")\n",
    "\n",
    "            # Create the transform for this combination\n",
    "            train_transform = transforms.Compose([\n",
    "                transforms.Resize((size, size)),\n",
    "                *[augmentation_dict[aug] for aug in combo],\n",
    "                transforms.ToTensor()\n",
    "            ])\n",
    "\n",
    "            # Load and split the datasets\n",
    "            trainset = Hotdog_NotHotdog(train=True, transform=train_transform)\n",
    "            train_size = int(0.8 * len(trainset))\n",
    "            val_size = len(trainset) - train_size\n",
    "            train_dataset, val_dataset = random_split(trainset, [train_size, val_size])\n",
    "\n",
    "            train_loader = DataLoader(train_dataset, batch_size=batch_size, shuffle=True, num_workers=0)\n",
    "            val_loader = DataLoader(val_dataset, batch_size=batch_size, shuffle=False, num_workers=0)\n",
    "\n",
    "            testset = Hotdog_NotHotdog(train=False, transform=base_transform)\n",
    "            test_loader = DataLoader(testset, batch_size=batch_size, shuffle=False, num_workers=0)\n",
    "\n",
    "            # Initialize the model, loss function, and optimizer\n",
    "            model = SimpleCNN()\n",
    "            criterion = nn.BCELoss()\n",
    "            optimizer = optim.Adam(model.parameters(), lr=0.0002)\n",
    "\n",
    "            # Train the model with early stopping\n",
    "            train_accuracies, val_accuracies = train_model(model, train_loader, val_loader, criterion, optimizer, num_epochs, patience, device)\n",
    "\n",
    "            # Calculate test accuracy\n",
    "            test_accuracy = calculate_accuracy(test_loader, model, device)\n",
    "\n",
    "            # Save results\n",
    "            results.append({\n",
    "                'augmentation': combo_name,\n",
    "                'run': run + 1,\n",
    "                'train_accuracy': train_accuracies[-1],\n",
    "                'val_accuracy': val_accuracies[-1],\n",
    "                'test_accuracy': test_accuracy\n",
    "            })\n",
    "\n",
    "    # Save results to CSV\n",
    "    with open('hotdog_classification_results.csv', 'w', newline='') as file:\n",
    "        writer = csv.DictWriter(file, fieldnames=['augmentation', 'run', 'train_accuracy', 'val_accuracy', 'test_accuracy'])\n",
    "        writer.writeheader()\n",
    "        for result in results:\n",
    "            writer.writerow(result)\n",
    "\n",
    "    print(\"\\nExperiment completed. Results saved to 'hotdog_classification_results.csv'\")\n",
    "\n",
    "\n",
    "# Run the experiment\n",
    "if __name__ == \"__main__\":\n",
    "    run_experiment(['color_jitter', 'random_rotation', 'random_horizontal_flip'])\n"
   ]
  },
  {
   "cell_type": "code",
   "execution_count": null,
   "id": "d566e841-ad17-4a2e-adfe-cbb5cd1c7831",
   "metadata": {},
   "outputs": [],
   "source": []
  }
 ],
 "metadata": {
  "kernelspec": {
   "display_name": "Python 3 (ipykernel)",
   "language": "python",
   "name": "python3"
  },
  "language_info": {
   "codemirror_mode": {
    "name": "ipython",
    "version": 3
   },
   "file_extension": ".py",
   "mimetype": "text/x-python",
   "name": "python",
   "nbconvert_exporter": "python",
   "pygments_lexer": "ipython3",
   "version": "3.12.4"
  }
 },
 "nbformat": 4,
 "nbformat_minor": 5
}
